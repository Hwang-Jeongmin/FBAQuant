{
 "cells": [
  {
   "cell_type": "markdown",
   "metadata": {
    "id": "1HM9GOodPgeX"
   },
   "source": [
    "## HW1"
   ]
  },
  {
   "cell_type": "markdown",
   "metadata": {
    "id": "CvKLVmLcU63X"
   },
   "source": [
    "**CH 10**  \n",
    "Factor Model  \n",
    "$ \\\\ $  \n",
    "Single Factor model  \n",
    "$ R_i = E(R_i) + \\beta_iF + \\epsilon_i$  \n",
    "Multi Factor model  \n",
    "$ R_i = E[R_i] + \\beta_{i,1} F_1 + \\beta_{i,2}F_2 + ...+\\epsilon_i $  \n",
    "Seeks to improve the explanatory power by accounting for various components of systematic risk.    \n",
    "$ \\\\ $  \n",
    "Arbitrage Pricing Theory(APT)  \n",
    "$ \\\\ $  \n",
    "Arbitrage condition:  \n",
    "No risk-free investment is possible.  \n",
    "(because when market is efficient if arbitrage opportunity exists, people would make large volume of trades in order to make profit)  \n",
    "$ \\\\ $  \n",
    "In a single-factor security market, all well -diversified portfolio have to satisfy the expected_return - beta relationship of the CAPM to satisfy the no-arbitrage condition.  \n",
    "$ \\\\ $  \n",
    "Multifactor APT generatlizes the single-factor model to accomodate several sources of systematic risk    \n",
    "$ \\\\ $  \n",
    "Fama-French(FF) Three Factor Model  \n",
    "$ R_it = \\alpha_i + \\beta_{iM}R_{Mt} + \\beta_{iSMB}SMB_t + \\beta_{iHML}HML_t +\\epsilon_{it} $  \n",
    "SMB - Small Minus Big, HML - High Minus Low  \n",
    "\n"
   ]
  },
  {
   "cell_type": "markdown",
   "metadata": {
    "id": "b2UO1gN3WG2F"
   },
   "source": [
    "## HW2"
   ]
  },
  {
   "cell_type": "code",
   "execution_count": 26,
   "metadata": {},
   "outputs": [],
   "source": [
    "import pandas as pd\n",
    "import numpy as np\n",
    "\n",
    "import statsmodels.api as sm\n",
    "\n",
    "import matplotlib.pyplot as plt\n",
    "import seaborn as sns\n",
    "\n",
    "import warnings\n",
    "warnings.filterwarnings('ignore')"
   ]
  },
  {
   "cell_type": "code",
   "execution_count": 27,
   "metadata": {},
   "outputs": [
    {
     "data": {
      "text/html": [
       "<div>\n",
       "<style scoped>\n",
       "    .dataframe tbody tr th:only-of-type {\n",
       "        vertical-align: middle;\n",
       "    }\n",
       "\n",
       "    .dataframe tbody tr th {\n",
       "        vertical-align: top;\n",
       "    }\n",
       "\n",
       "    .dataframe thead th {\n",
       "        text-align: right;\n",
       "    }\n",
       "</style>\n",
       "<table border=\"1\" class=\"dataframe\">\n",
       "  <thead>\n",
       "    <tr style=\"text-align: right;\">\n",
       "      <th></th>\n",
       "      <th>BRK.A</th>\n",
       "      <th>MKT</th>\n",
       "      <th>SMB</th>\n",
       "      <th>HML</th>\n",
       "      <th>RF</th>\n",
       "      <th>QMJ</th>\n",
       "      <th>BAB</th>\n",
       "      <th>UMD</th>\n",
       "    </tr>\n",
       "    <tr>\n",
       "      <th>datadate</th>\n",
       "      <th></th>\n",
       "      <th></th>\n",
       "      <th></th>\n",
       "      <th></th>\n",
       "      <th></th>\n",
       "      <th></th>\n",
       "      <th></th>\n",
       "      <th></th>\n",
       "    </tr>\n",
       "  </thead>\n",
       "  <tbody>\n",
       "    <tr>\n",
       "      <th>1/29/1999</th>\n",
       "      <td>2.01</td>\n",
       "      <td>3.63</td>\n",
       "      <td>-1.24</td>\n",
       "      <td>-3.61</td>\n",
       "      <td>0.364</td>\n",
       "      <td>-3.54</td>\n",
       "      <td>-3.87</td>\n",
       "      <td>2.34</td>\n",
       "    </tr>\n",
       "    <tr>\n",
       "      <th>2/26/1999</th>\n",
       "      <td>-1.53</td>\n",
       "      <td>-4.13</td>\n",
       "      <td>-3.85</td>\n",
       "      <td>2.15</td>\n",
       "      <td>0.379</td>\n",
       "      <td>-0.41</td>\n",
       "      <td>0.94</td>\n",
       "      <td>-0.40</td>\n",
       "    </tr>\n",
       "    <tr>\n",
       "      <th>3/31/1999</th>\n",
       "      <td>1.50</td>\n",
       "      <td>3.52</td>\n",
       "      <td>-3.85</td>\n",
       "      <td>-2.98</td>\n",
       "      <td>0.364</td>\n",
       "      <td>-2.50</td>\n",
       "      <td>-7.73</td>\n",
       "      <td>-2.51</td>\n",
       "    </tr>\n",
       "    <tr>\n",
       "      <th>4/30/1999</th>\n",
       "      <td>5.33</td>\n",
       "      <td>4.56</td>\n",
       "      <td>2.88</td>\n",
       "      <td>3.47</td>\n",
       "      <td>0.369</td>\n",
       "      <td>-4.54</td>\n",
       "      <td>-0.20</td>\n",
       "      <td>-9.13</td>\n",
       "    </tr>\n",
       "    <tr>\n",
       "      <th>5/28/1999</th>\n",
       "      <td>-2.07</td>\n",
       "      <td>-2.55</td>\n",
       "      <td>5.64</td>\n",
       "      <td>1.15</td>\n",
       "      <td>0.378</td>\n",
       "      <td>1.82</td>\n",
       "      <td>3.62</td>\n",
       "      <td>-2.98</td>\n",
       "    </tr>\n",
       "  </tbody>\n",
       "</table>\n",
       "</div>"
      ],
      "text/plain": [
       "           BRK.A   MKT   SMB   HML     RF   QMJ   BAB   UMD\n",
       "datadate                                                   \n",
       "1/29/1999   2.01  3.63 -1.24 -3.61  0.364 -3.54 -3.87  2.34\n",
       "2/26/1999  -1.53 -4.13 -3.85  2.15  0.379 -0.41  0.94 -0.40\n",
       "3/31/1999   1.50  3.52 -3.85 -2.98  0.364 -2.50 -7.73 -2.51\n",
       "4/30/1999   5.33  4.56  2.88  3.47  0.369 -4.54 -0.20 -9.13\n",
       "5/28/1999  -2.07 -2.55  5.64  1.15  0.378  1.82  3.62 -2.98"
      ]
     },
     "execution_count": 27,
     "metadata": {},
     "output_type": "execute_result"
    }
   ],
   "source": [
    "df = pd.read_csv(\"BRK13F.csv\", index_col=0)\n",
    "df.head()"
   ]
  },
  {
   "cell_type": "markdown",
   "metadata": {},
   "source": [
    "### (1) - 3 Factor Model"
   ]
  },
  {
   "cell_type": "markdown",
   "metadata": {},
   "source": [
    "$ r = R_f + \\beta(R_m - R_f) + b_s \\times SMB  + b_v \\times HML + \\alpha $  "
   ]
  },
  {
   "cell_type": "code",
   "execution_count": 28,
   "metadata": {},
   "outputs": [],
   "source": [
    "returns = df['BRK.A']\n",
    "rf = df['RF']\n",
    "market, smb, hml = df['MKT'], df['SMB'], df['HML']\n",
    "\n",
    "# \"calculate excess return\" and \"market excess return\"\n",
    "excess_return = returns - rf\n",
    "market_excess_return = market - rf\n",
    "market_excess_return.name = \"Rm-Rf\""
   ]
  },
  {
   "cell_type": "code",
   "execution_count": 29,
   "metadata": {},
   "outputs": [],
   "source": [
    "y = excess_return\n",
    "x = pd.concat([market_excess_return,smb, hml], axis=1)"
   ]
  },
  {
   "cell_type": "code",
   "execution_count": 30,
   "metadata": {
    "scrolled": true
   },
   "outputs": [
    {
     "data": {
      "text/html": [
       "<table class=\"simpletable\">\n",
       "<caption>OLS Regression Results</caption>\n",
       "<tr>\n",
       "  <th>Dep. Variable:</th>            <td>y</td>        <th>  R-squared:         </th> <td>   0.620</td>\n",
       "</tr>\n",
       "<tr>\n",
       "  <th>Model:</th>                   <td>OLS</td>       <th>  Adj. R-squared:    </th> <td>   0.614</td>\n",
       "</tr>\n",
       "<tr>\n",
       "  <th>Method:</th>             <td>Least Squares</td>  <th>  F-statistic:       </th> <td>   95.92</td>\n",
       "</tr>\n",
       "<tr>\n",
       "  <th>Date:</th>             <td>Thu, 09 Mar 2023</td> <th>  Prob (F-statistic):</th> <td>7.88e-37</td>\n",
       "</tr>\n",
       "<tr>\n",
       "  <th>Time:</th>                 <td>21:58:57</td>     <th>  Log-Likelihood:    </th> <td> -437.21</td>\n",
       "</tr>\n",
       "<tr>\n",
       "  <th>No. Observations:</th>      <td>   180</td>      <th>  AIC:               </th> <td>   882.4</td>\n",
       "</tr>\n",
       "<tr>\n",
       "  <th>Df Residuals:</th>          <td>   176</td>      <th>  BIC:               </th> <td>   895.2</td>\n",
       "</tr>\n",
       "<tr>\n",
       "  <th>Df Model:</th>              <td>     3</td>      <th>                     </th>     <td> </td>   \n",
       "</tr>\n",
       "<tr>\n",
       "  <th>Covariance Type:</th>      <td>nonrobust</td>    <th>                     </th>     <td> </td>   \n",
       "</tr>\n",
       "</table>\n",
       "<table class=\"simpletable\">\n",
       "<tr>\n",
       "    <td></td>       <th>coef</th>     <th>std err</th>      <th>t</th>      <th>P>|t|</th>  <th>[0.025</th>    <th>0.975]</th>  \n",
       "</tr>\n",
       "<tr>\n",
       "  <th>const</th> <td>    0.3259</td> <td>    0.211</td> <td>    1.544</td> <td> 0.124</td> <td>   -0.091</td> <td>    0.742</td>\n",
       "</tr>\n",
       "<tr>\n",
       "  <th>Rm-Rf</th> <td>    0.7444</td> <td>    0.047</td> <td>   16.002</td> <td> 0.000</td> <td>    0.653</td> <td>    0.836</td>\n",
       "</tr>\n",
       "<tr>\n",
       "  <th>SMB</th>   <td>   -0.3063</td> <td>    0.077</td> <td>   -3.995</td> <td> 0.000</td> <td>   -0.458</td> <td>   -0.155</td>\n",
       "</tr>\n",
       "<tr>\n",
       "  <th>HML</th>   <td>    0.5185</td> <td>    0.070</td> <td>    7.409</td> <td> 0.000</td> <td>    0.380</td> <td>    0.657</td>\n",
       "</tr>\n",
       "</table>\n",
       "<table class=\"simpletable\">\n",
       "<tr>\n",
       "  <th>Omnibus:</th>       <td>18.985</td> <th>  Durbin-Watson:     </th> <td>   2.056</td>\n",
       "</tr>\n",
       "<tr>\n",
       "  <th>Prob(Omnibus):</th> <td> 0.000</td> <th>  Jarque-Bera (JB):  </th> <td>  77.504</td>\n",
       "</tr>\n",
       "<tr>\n",
       "  <th>Skew:</th>          <td> 0.013</td> <th>  Prob(JB):          </th> <td>1.48e-17</td>\n",
       "</tr>\n",
       "<tr>\n",
       "  <th>Kurtosis:</th>      <td> 6.215</td> <th>  Cond. No.          </th> <td>    5.10</td>\n",
       "</tr>\n",
       "</table><br/><br/>Notes:<br/>[1] Standard Errors assume that the covariance matrix of the errors is correctly specified."
      ],
      "text/plain": [
       "<class 'statsmodels.iolib.summary.Summary'>\n",
       "\"\"\"\n",
       "                            OLS Regression Results                            \n",
       "==============================================================================\n",
       "Dep. Variable:                      y   R-squared:                       0.620\n",
       "Model:                            OLS   Adj. R-squared:                  0.614\n",
       "Method:                 Least Squares   F-statistic:                     95.92\n",
       "Date:                Thu, 09 Mar 2023   Prob (F-statistic):           7.88e-37\n",
       "Time:                        21:58:57   Log-Likelihood:                -437.21\n",
       "No. Observations:                 180   AIC:                             882.4\n",
       "Df Residuals:                     176   BIC:                             895.2\n",
       "Df Model:                           3                                         \n",
       "Covariance Type:            nonrobust                                         \n",
       "==============================================================================\n",
       "                 coef    std err          t      P>|t|      [0.025      0.975]\n",
       "------------------------------------------------------------------------------\n",
       "const          0.3259      0.211      1.544      0.124      -0.091       0.742\n",
       "Rm-Rf          0.7444      0.047     16.002      0.000       0.653       0.836\n",
       "SMB           -0.3063      0.077     -3.995      0.000      -0.458      -0.155\n",
       "HML            0.5185      0.070      7.409      0.000       0.380       0.657\n",
       "==============================================================================\n",
       "Omnibus:                       18.985   Durbin-Watson:                   2.056\n",
       "Prob(Omnibus):                  0.000   Jarque-Bera (JB):               77.504\n",
       "Skew:                           0.013   Prob(JB):                     1.48e-17\n",
       "Kurtosis:                       6.215   Cond. No.                         5.10\n",
       "==============================================================================\n",
       "\n",
       "Notes:\n",
       "[1] Standard Errors assume that the covariance matrix of the errors is correctly specified.\n",
       "\"\"\""
      ]
     },
     "execution_count": 30,
     "metadata": {},
     "output_type": "execute_result"
    }
   ],
   "source": [
    "result = sm.OLS(y, sm.add_constant(x)).fit()\n",
    "result.summary()"
   ]
  },
  {
   "cell_type": "markdown",
   "metadata": {},
   "source": [
    "$ \\alpha=0.3259$($\\alpha$ is not stastically significant)  \n",
    "all factors in the model are significant  \n",
    "Adj. R_squared = 0.614  \n",
    "AIC = 882.4  \n",
    "BIC = 895.2"
   ]
  },
  {
   "cell_type": "markdown",
   "metadata": {},
   "source": [
    "### (2) - 4 Factor Model"
   ]
  },
  {
   "cell_type": "markdown",
   "metadata": {},
   "source": [
    "$ r = R_f + \\beta(R_m - R_f) + b_s \\times SMB  + b_v \\times HML + b_m \\times UMD + \\alpha $ "
   ]
  },
  {
   "cell_type": "code",
   "execution_count": 31,
   "metadata": {},
   "outputs": [],
   "source": [
    "returns = df['BRK.A']\n",
    "rf = df['RF']\n",
    "market, smb, hml, umd = df['MKT'], df['SMB'], df['HML'], df['UMD']\n",
    "\n",
    "# \"calculate excess return\" and \"market excess return\"\n",
    "excess_return = returns - rf\n",
    "market_excess_return = market - rf\n",
    "market_excess_return.name = \"Rm-Rf\""
   ]
  },
  {
   "cell_type": "code",
   "execution_count": 32,
   "metadata": {},
   "outputs": [],
   "source": [
    "y = excess_return\n",
    "x = pd.concat([market_excess_return,smb, hml, umd], axis=1)"
   ]
  },
  {
   "cell_type": "code",
   "execution_count": 33,
   "metadata": {},
   "outputs": [
    {
     "data": {
      "text/html": [
       "<table class=\"simpletable\">\n",
       "<caption>OLS Regression Results</caption>\n",
       "<tr>\n",
       "  <th>Dep. Variable:</th>            <td>y</td>        <th>  R-squared:         </th> <td>   0.642</td>\n",
       "</tr>\n",
       "<tr>\n",
       "  <th>Model:</th>                   <td>OLS</td>       <th>  Adj. R-squared:    </th> <td>   0.633</td>\n",
       "</tr>\n",
       "<tr>\n",
       "  <th>Method:</th>             <td>Least Squares</td>  <th>  F-statistic:       </th> <td>   78.35</td>\n",
       "</tr>\n",
       "<tr>\n",
       "  <th>Date:</th>             <td>Thu, 09 Mar 2023</td> <th>  Prob (F-statistic):</th> <td>5.69e-38</td>\n",
       "</tr>\n",
       "<tr>\n",
       "  <th>Time:</th>                 <td>22:05:45</td>     <th>  Log-Likelihood:    </th> <td> -432.04</td>\n",
       "</tr>\n",
       "<tr>\n",
       "  <th>No. Observations:</th>      <td>   180</td>      <th>  AIC:               </th> <td>   874.1</td>\n",
       "</tr>\n",
       "<tr>\n",
       "  <th>Df Residuals:</th>          <td>   175</td>      <th>  BIC:               </th> <td>   890.0</td>\n",
       "</tr>\n",
       "<tr>\n",
       "  <th>Df Model:</th>              <td>     4</td>      <th>                     </th>     <td> </td>   \n",
       "</tr>\n",
       "<tr>\n",
       "  <th>Covariance Type:</th>      <td>nonrobust</td>    <th>                     </th>     <td> </td>   \n",
       "</tr>\n",
       "</table>\n",
       "<table class=\"simpletable\">\n",
       "<tr>\n",
       "    <td></td>       <th>coef</th>     <th>std err</th>      <th>t</th>      <th>P>|t|</th>  <th>[0.025</th>    <th>0.975]</th>  \n",
       "</tr>\n",
       "<tr>\n",
       "  <th>const</th> <td>    0.3974</td> <td>    0.207</td> <td>    1.921</td> <td> 0.056</td> <td>   -0.011</td> <td>    0.806</td>\n",
       "</tr>\n",
       "<tr>\n",
       "  <th>Rm-Rf</th> <td>    0.6943</td> <td>    0.048</td> <td>   14.483</td> <td> 0.000</td> <td>    0.600</td> <td>    0.789</td>\n",
       "</tr>\n",
       "<tr>\n",
       "  <th>SMB</th>   <td>   -0.3228</td> <td>    0.075</td> <td>   -4.311</td> <td> 0.000</td> <td>   -0.471</td> <td>   -0.175</td>\n",
       "</tr>\n",
       "<tr>\n",
       "  <th>HML</th>   <td>    0.4879</td> <td>    0.069</td> <td>    7.088</td> <td> 0.000</td> <td>    0.352</td> <td>    0.624</td>\n",
       "</tr>\n",
       "<tr>\n",
       "  <th>UMD</th>   <td>   -0.1209</td> <td>    0.038</td> <td>   -3.218</td> <td> 0.002</td> <td>   -0.195</td> <td>   -0.047</td>\n",
       "</tr>\n",
       "</table>\n",
       "<table class=\"simpletable\">\n",
       "<tr>\n",
       "  <th>Omnibus:</th>       <td>20.214</td> <th>  Durbin-Watson:     </th> <td>   1.965</td>\n",
       "</tr>\n",
       "<tr>\n",
       "  <th>Prob(Omnibus):</th> <td> 0.000</td> <th>  Jarque-Bera (JB):  </th> <td>  78.138</td>\n",
       "</tr>\n",
       "<tr>\n",
       "  <th>Skew:</th>          <td> 0.202</td> <th>  Prob(JB):          </th> <td>1.08e-17</td>\n",
       "</tr>\n",
       "<tr>\n",
       "  <th>Kurtosis:</th>      <td> 6.202</td> <th>  Cond. No.          </th> <td>    6.49</td>\n",
       "</tr>\n",
       "</table><br/><br/>Notes:<br/>[1] Standard Errors assume that the covariance matrix of the errors is correctly specified."
      ],
      "text/plain": [
       "<class 'statsmodels.iolib.summary.Summary'>\n",
       "\"\"\"\n",
       "                            OLS Regression Results                            \n",
       "==============================================================================\n",
       "Dep. Variable:                      y   R-squared:                       0.642\n",
       "Model:                            OLS   Adj. R-squared:                  0.633\n",
       "Method:                 Least Squares   F-statistic:                     78.35\n",
       "Date:                Thu, 09 Mar 2023   Prob (F-statistic):           5.69e-38\n",
       "Time:                        22:05:45   Log-Likelihood:                -432.04\n",
       "No. Observations:                 180   AIC:                             874.1\n",
       "Df Residuals:                     175   BIC:                             890.0\n",
       "Df Model:                           4                                         \n",
       "Covariance Type:            nonrobust                                         \n",
       "==============================================================================\n",
       "                 coef    std err          t      P>|t|      [0.025      0.975]\n",
       "------------------------------------------------------------------------------\n",
       "const          0.3974      0.207      1.921      0.056      -0.011       0.806\n",
       "Rm-Rf          0.6943      0.048     14.483      0.000       0.600       0.789\n",
       "SMB           -0.3228      0.075     -4.311      0.000      -0.471      -0.175\n",
       "HML            0.4879      0.069      7.088      0.000       0.352       0.624\n",
       "UMD           -0.1209      0.038     -3.218      0.002      -0.195      -0.047\n",
       "==============================================================================\n",
       "Omnibus:                       20.214   Durbin-Watson:                   1.965\n",
       "Prob(Omnibus):                  0.000   Jarque-Bera (JB):               78.138\n",
       "Skew:                           0.202   Prob(JB):                     1.08e-17\n",
       "Kurtosis:                       6.202   Cond. No.                         6.49\n",
       "==============================================================================\n",
       "\n",
       "Notes:\n",
       "[1] Standard Errors assume that the covariance matrix of the errors is correctly specified.\n",
       "\"\"\""
      ]
     },
     "execution_count": 33,
     "metadata": {},
     "output_type": "execute_result"
    }
   ],
   "source": [
    "result = sm.OLS(y, sm.add_constant(x)).fit()\n",
    "result.summary()"
   ]
  },
  {
   "cell_type": "markdown",
   "metadata": {},
   "source": [
    "$ \\alpha=0.3974$($\\alpha$ is not stastically significant)  \n",
    "all factors in the model are significant  \n",
    "Adj. R_squared = 0.633    \n",
    "AIC = 874.1    \n",
    "BIC = 890.0  "
   ]
  },
  {
   "cell_type": "markdown",
   "metadata": {},
   "source": [
    "### (3) - 6 Factor Model"
   ]
  },
  {
   "cell_type": "markdown",
   "metadata": {},
   "source": [
    "$ r = R_f + \\beta(R_m - R_f) + b_s \\times SMB  + b_v \\times HML + b_q \\times QMJ +   \n",
    "  b_l \\times BAB + b_m \\times UMD + \\alpha $ "
   ]
  },
  {
   "cell_type": "code",
   "execution_count": 34,
   "metadata": {},
   "outputs": [],
   "source": [
    "returns = df['BRK.A']\n",
    "rf = df['RF']\n",
    "market, smb, hml, qmj, bab, umd = df['MKT'], df['SMB'], df['HML'], df['QMJ'], df['BAB'], df['UMD']\n",
    "\n",
    "# \"calculate excess return\" and \"market excess return\"\n",
    "excess_return = returns - rf\n",
    "market_excess_return = market - rf\n",
    "market_excess_return.name = \"Rm-Rf\""
   ]
  },
  {
   "cell_type": "code",
   "execution_count": 35,
   "metadata": {},
   "outputs": [],
   "source": [
    "y = excess_return\n",
    "x = pd.concat([market_excess_return,smb, hml, qmj,bab, umd], axis=1)"
   ]
  },
  {
   "cell_type": "code",
   "execution_count": 36,
   "metadata": {},
   "outputs": [
    {
     "data": {
      "text/html": [
       "<table class=\"simpletable\">\n",
       "<caption>OLS Regression Results</caption>\n",
       "<tr>\n",
       "  <th>Dep. Variable:</th>            <td>y</td>        <th>  R-squared:         </th> <td>   0.657</td>\n",
       "</tr>\n",
       "<tr>\n",
       "  <th>Model:</th>                   <td>OLS</td>       <th>  Adj. R-squared:    </th> <td>   0.645</td>\n",
       "</tr>\n",
       "<tr>\n",
       "  <th>Method:</th>             <td>Least Squares</td>  <th>  F-statistic:       </th> <td>   55.20</td>\n",
       "</tr>\n",
       "<tr>\n",
       "  <th>Date:</th>             <td>Thu, 09 Mar 2023</td> <th>  Prob (F-statistic):</th> <td>1.10e-37</td>\n",
       "</tr>\n",
       "<tr>\n",
       "  <th>Time:</th>                 <td>22:11:16</td>     <th>  Log-Likelihood:    </th> <td> -428.14</td>\n",
       "</tr>\n",
       "<tr>\n",
       "  <th>No. Observations:</th>      <td>   180</td>      <th>  AIC:               </th> <td>   870.3</td>\n",
       "</tr>\n",
       "<tr>\n",
       "  <th>Df Residuals:</th>          <td>   173</td>      <th>  BIC:               </th> <td>   892.6</td>\n",
       "</tr>\n",
       "<tr>\n",
       "  <th>Df Model:</th>              <td>     6</td>      <th>                     </th>     <td> </td>   \n",
       "</tr>\n",
       "<tr>\n",
       "  <th>Covariance Type:</th>      <td>nonrobust</td>    <th>                     </th>     <td> </td>   \n",
       "</tr>\n",
       "</table>\n",
       "<table class=\"simpletable\">\n",
       "<tr>\n",
       "    <td></td>       <th>coef</th>     <th>std err</th>      <th>t</th>      <th>P>|t|</th>  <th>[0.025</th>    <th>0.975]</th>  \n",
       "</tr>\n",
       "<tr>\n",
       "  <th>const</th> <td>    0.2175</td> <td>    0.214</td> <td>    1.018</td> <td> 0.310</td> <td>   -0.204</td> <td>    0.639</td>\n",
       "</tr>\n",
       "<tr>\n",
       "  <th>Rm-Rf</th> <td>    0.8230</td> <td>    0.066</td> <td>   12.381</td> <td> 0.000</td> <td>    0.692</td> <td>    0.954</td>\n",
       "</tr>\n",
       "<tr>\n",
       "  <th>SMB</th>   <td>   -0.2012</td> <td>    0.086</td> <td>   -2.342</td> <td> 0.020</td> <td>   -0.371</td> <td>   -0.032</td>\n",
       "</tr>\n",
       "<tr>\n",
       "  <th>HML</th>   <td>    0.4726</td> <td>    0.080</td> <td>    5.942</td> <td> 0.000</td> <td>    0.316</td> <td>    0.630</td>\n",
       "</tr>\n",
       "<tr>\n",
       "  <th>QMJ</th>   <td>    0.2890</td> <td>    0.110</td> <td>    2.630</td> <td> 0.009</td> <td>    0.072</td> <td>    0.506</td>\n",
       "</tr>\n",
       "<tr>\n",
       "  <th>BAB</th>   <td>    0.0149</td> <td>    0.060</td> <td>    0.247</td> <td> 0.805</td> <td>   -0.104</td> <td>    0.134</td>\n",
       "</tr>\n",
       "<tr>\n",
       "  <th>UMD</th>   <td>   -0.1361</td> <td>    0.039</td> <td>   -3.527</td> <td> 0.001</td> <td>   -0.212</td> <td>   -0.060</td>\n",
       "</tr>\n",
       "</table>\n",
       "<table class=\"simpletable\">\n",
       "<tr>\n",
       "  <th>Omnibus:</th>       <td>22.582</td> <th>  Durbin-Watson:     </th> <td>   2.000</td>\n",
       "</tr>\n",
       "<tr>\n",
       "  <th>Prob(Omnibus):</th> <td> 0.000</td> <th>  Jarque-Bera (JB):  </th> <td>  97.962</td>\n",
       "</tr>\n",
       "<tr>\n",
       "  <th>Skew:</th>          <td> 0.227</td> <th>  Prob(JB):          </th> <td>5.34e-22</td>\n",
       "</tr>\n",
       "<tr>\n",
       "  <th>Kurtosis:</th>      <td> 6.585</td> <th>  Cond. No.          </th> <td>    7.94</td>\n",
       "</tr>\n",
       "</table><br/><br/>Notes:<br/>[1] Standard Errors assume that the covariance matrix of the errors is correctly specified."
      ],
      "text/plain": [
       "<class 'statsmodels.iolib.summary.Summary'>\n",
       "\"\"\"\n",
       "                            OLS Regression Results                            \n",
       "==============================================================================\n",
       "Dep. Variable:                      y   R-squared:                       0.657\n",
       "Model:                            OLS   Adj. R-squared:                  0.645\n",
       "Method:                 Least Squares   F-statistic:                     55.20\n",
       "Date:                Thu, 09 Mar 2023   Prob (F-statistic):           1.10e-37\n",
       "Time:                        22:11:16   Log-Likelihood:                -428.14\n",
       "No. Observations:                 180   AIC:                             870.3\n",
       "Df Residuals:                     173   BIC:                             892.6\n",
       "Df Model:                           6                                         \n",
       "Covariance Type:            nonrobust                                         \n",
       "==============================================================================\n",
       "                 coef    std err          t      P>|t|      [0.025      0.975]\n",
       "------------------------------------------------------------------------------\n",
       "const          0.2175      0.214      1.018      0.310      -0.204       0.639\n",
       "Rm-Rf          0.8230      0.066     12.381      0.000       0.692       0.954\n",
       "SMB           -0.2012      0.086     -2.342      0.020      -0.371      -0.032\n",
       "HML            0.4726      0.080      5.942      0.000       0.316       0.630\n",
       "QMJ            0.2890      0.110      2.630      0.009       0.072       0.506\n",
       "BAB            0.0149      0.060      0.247      0.805      -0.104       0.134\n",
       "UMD           -0.1361      0.039     -3.527      0.001      -0.212      -0.060\n",
       "==============================================================================\n",
       "Omnibus:                       22.582   Durbin-Watson:                   2.000\n",
       "Prob(Omnibus):                  0.000   Jarque-Bera (JB):               97.962\n",
       "Skew:                           0.227   Prob(JB):                     5.34e-22\n",
       "Kurtosis:                       6.585   Cond. No.                         7.94\n",
       "==============================================================================\n",
       "\n",
       "Notes:\n",
       "[1] Standard Errors assume that the covariance matrix of the errors is correctly specified.\n",
       "\"\"\""
      ]
     },
     "execution_count": 36,
     "metadata": {},
     "output_type": "execute_result"
    }
   ],
   "source": [
    "result = sm.OLS(y, sm.add_constant(x)).fit()\n",
    "result.summary()"
   ]
  },
  {
   "cell_type": "markdown",
   "metadata": {},
   "source": [
    "$ \\alpha=0.2175$($\\alpha$ is not stastically significant)  \n",
    "all factors in the model except \"BAB\" are significant  \n",
    "Adj. R_squared = 0.645    \n",
    "AIC = 870.3      \n",
    "BIC = 892.6  "
   ]
  },
  {
   "cell_type": "markdown",
   "metadata": {},
   "source": [
    "### Summary"
   ]
  },
  {
   "cell_type": "markdown",
   "metadata": {},
   "source": [
    "BIC를 기준으로 볼때, 4 factor model이 가장 작은 값을 보여주었으며, 모든 factor들이 통계적으로 유의하였다. 또한 alpha의 경우에도 4-factor model에서 p-value가 가장 낮게 나타났다. 따라서 이 경우, 4-factor model이 가장 좋은 모델이라고 할 수 있으며, $\\alpha$는 양수라는 것을 확인할 수 있다.  "
   ]
  }
 ],
 "metadata": {
  "colab": {
   "provenance": []
  },
  "kernelspec": {
   "display_name": "Python 3 (ipykernel)",
   "language": "python",
   "name": "python3"
  },
  "language_info": {
   "codemirror_mode": {
    "name": "ipython",
    "version": 3
   },
   "file_extension": ".py",
   "mimetype": "text/x-python",
   "name": "python",
   "nbconvert_exporter": "python",
   "pygments_lexer": "ipython3",
   "version": "3.8.12"
  }
 },
 "nbformat": 4,
 "nbformat_minor": 1
}
