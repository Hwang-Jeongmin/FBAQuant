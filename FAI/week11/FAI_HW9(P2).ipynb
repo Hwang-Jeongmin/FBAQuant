{
  "nbformat": 4,
  "nbformat_minor": 0,
  "metadata": {
    "colab": {
      "provenance": []
    },
    "kernelspec": {
      "name": "python3",
      "display_name": "Python 3"
    },
    "language_info": {
      "name": "python"
    }
  },
  "cells": [
    {
      "cell_type": "markdown",
      "source": [
        "## 2"
      ],
      "metadata": {
        "id": "24M1Yfx3VDRQ"
      }
    },
    {
      "cell_type": "code",
      "execution_count": null,
      "metadata": {
        "colab": {
          "base_uri": "https://localhost:8080/"
        },
        "id": "cX1vIJRxGiKb",
        "outputId": "ab44ba63-5662-4204-c2cb-7e15dfc39336"
      },
      "outputs": [
        {
          "output_type": "stream",
          "name": "stdout",
          "text": [
            "1\n",
            "5\n"
          ]
        }
      ],
      "source": [
        "# Climb Stairs\n",
        "def climbStairs(n):\n",
        "    ls = [0] * 46\n",
        "    ls[1], ls[2] = 1, 2\n",
        "    for i in range(3, n+1):\n",
        "        ls[i] = ls[i-1] + ls[i-2]\n",
        "    return ls[n]\n",
        "\n",
        "print(climbStairs(1))\n",
        "print(climbStairs(4))"
      ]
    },
    {
      "cell_type": "code",
      "source": [
        "# Binary Tree Inorder Traversal\n",
        "class Solution:\n",
        "    def inorderTraversal(self, root: Optional[TreeNode]) -> List[int]:\n",
        "        if root:\n",
        "            return  self.inorderTraversal(root.left) + [root.val] + self.inorderTraversal(root.right)\n",
        "        else:\n",
        "            return []"
      ],
      "metadata": {
        "id": "fyPJVNqyMZsg"
      },
      "execution_count": null,
      "outputs": []
    }
  ]
}