{
  "nbformat": 4,
  "nbformat_minor": 0,
  "metadata": {
    "colab": {
      "provenance": [],
      "collapsed_sections": []
    },
    "kernelspec": {
      "name": "python3",
      "display_name": "Python 3"
    },
    "language_info": {
      "name": "python"
    }
  },
  "cells": [
    {
      "cell_type": "code",
      "execution_count": null,
      "metadata": {
        "id": "ENwZ5nhmFB0U"
      },
      "outputs": [],
      "source": [
        "### 1\n",
        "import re\n",
        "def isPalindrome(s: str) -> bool:\n",
        "    text = s.replace(\" \", '').lower()\n",
        "    text = re.sub('[^a-zA-Z0-9]','',text)\n",
        "    if text == text[::-1]:\n",
        "        return True\n",
        "    return False"
      ]
    },
    {
      "cell_type": "code",
      "source": [
        "### 2\n",
        "def checkInclusion(s1: str, s2: str) -> bool:\n",
        "  global my_list\n",
        "  check_list = [0] * 27 # 각각의 알파벳에 해당하는 check_list(1부터 시작)\n",
        "  my_list = [0] * 27  # 더 하고 빼는 값이다.\n",
        "  for i in range(len(s1)):\n",
        "    temp = ord(s1[i])-96\n",
        "    check_list[temp] += 1\n",
        "  def my_add(x):\n",
        "    temp = ord(x) - 96\n",
        "    my_list[temp] += 1\n",
        "  def my_sub(x):\n",
        "    temp = ord(x) - 96\n",
        "    my_list[temp] -= 1\n",
        "  def my_check(my_list, check_list):\n",
        "    for i in range(1, 27):\n",
        "      if my_list[i] != check_list[i]:\n",
        "        return False\n",
        "    return True\n",
        "\n",
        "  if len(s1) > len(s2):\n",
        "    return False\n",
        "  \n",
        "  for i in range(len(s1)):\n",
        "    my_add(s2[i])\n",
        "  if my_check(my_list, check_list):\n",
        "    return True\n",
        "  \n",
        "  for j in range(1, len(s2) - len(s1)+1):\n",
        "    my_sub(s2[j-1])\n",
        "    my_add(s2[len(s1)-1 + j])\n",
        "    if my_check(my_list, check_list):\n",
        "      return True\n",
        "  return False"
      ],
      "metadata": {
        "id": "hTflj3mpHLaL"
      },
      "execution_count": null,
      "outputs": []
    },
    {
      "cell_type": "code",
      "source": [
        "### 3\n",
        "def isToeplitzMatrix(matrix) -> bool:\n",
        "    m, n = len(matrix), len(matrix[0])\n",
        "    for i in range(m):\n",
        "        x, y = i, 0\n",
        "        target = matrix[x][y]\n",
        "        while x < m-1 and y < n-1:\n",
        "            x, y = x+1, y+1\n",
        "            if matrix[x][y] != target:\n",
        "                return False\n",
        "    for j in range(n):\n",
        "        x, y = 0, j\n",
        "        target = matrix[x][y]\n",
        "        while x < m-1 and y < n-1:\n",
        "            x, y = x+1, y+1\n",
        "            if matrix[x][y] != target:\n",
        "                return False\n",
        "    return True"
      ],
      "metadata": {
        "id": "01x9N5nkS3Wn"
      },
      "execution_count": null,
      "outputs": []
    }
  ]
}