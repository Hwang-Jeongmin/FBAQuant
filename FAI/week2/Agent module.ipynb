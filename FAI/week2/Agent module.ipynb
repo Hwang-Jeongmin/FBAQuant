{
 "cells": [
  {
   "cell_type": "code",
   "execution_count": null,
   "id": "65444203",
   "metadata": {},
   "outputs": [],
   "source": [
    "import pandas as pd\n",
    "\n",
    "class Agent:\n",
    "\n",
    "    def __init__ (self, agent_name='FBA_agent', credit=1000, holdings=0, stock_data):\n",
    "        self.name = agent_name\n",
    "        self.credit = credit\n",
    "        self.holdings = holdings\n",
    "        self.stock_data = pd.read_csv(stock_data)\n",
    "    def trading(self, stock_price):\n",
    "        for i in range(2, len(stock_price)):\n",
    "            \n",
    "        \n",
    "            if credit > stock_price[i]:\n",
    "                \n",
    "                if stock_price[i] > stock_price[i-1] and stock_price[i-1] > stock_price[i-2]:\n",
    "                    buy_amount = credit // stock_price[i]\n",
    "                    log = \"{self.name} buys {buy_amount} ${stock_price[i]} TSLA at {i} \"\n",
    "                    credit -= buy_amount * stock_price[i]\n",
    "                    self.holdings += buy_amount\n",
    "                    \n",
    "            \n",
    "            if hodlings > 0:\n",
    "                                    \n",
    "                if stock_price[i] < stock_price[i-1]:\n",
    "                    credit += self.holdings * stock_price[i]\n",
    "                    log = \"{self.name} sells {self.holdings} ${stock_price[i]} TSLA at {i}\"\n",
    "                    self.holdings = 0 \n",
    "                    \n",
    "                "
   ]
  }
 ],
 "metadata": {
  "kernelspec": {
   "display_name": "Python 3 (ipykernel)",
   "language": "python",
   "name": "python3"
  },
  "language_info": {
   "codemirror_mode": {
    "name": "ipython",
    "version": 3
   },
   "file_extension": ".py",
   "mimetype": "text/x-python",
   "name": "python",
   "nbconvert_exporter": "python",
   "pygments_lexer": "ipython3",
   "version": "3.9.7"
  }
 },
 "nbformat": 4,
 "nbformat_minor": 5
}
