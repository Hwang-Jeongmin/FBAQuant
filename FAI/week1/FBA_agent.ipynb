{
  "cells": [
    {
      "cell_type": "markdown",
      "id": "47cb9fa9",
      "metadata": {
        "id": "47cb9fa9"
      },
      "source": [
        "### Create Agent"
      ]
    },
    {
      "cell_type": "code",
      "execution_count": 1,
      "id": "4ca5dc70",
      "metadata": {
        "id": "4ca5dc70"
      },
      "outputs": [],
      "source": [
        "class Agent:\n",
        "\n",
        "    def __init__ (self, name='agent', credit=1000):\n",
        "        self.credit = credit\n",
        "        self.holding= []\n",
        "        self.name = name\n",
        "        print(f'The {self.name} is created')\n",
        "    \n",
        "    def check(self):\n",
        "        print(\"credit : \", self.credit)\n",
        "        print(\"holding : \", self.holding)\n",
        "    \n",
        "    def buy(self, buy_inform):\n",
        "        ticker = buy_inform[0]\n",
        "        price = buy_inform[1]\n",
        "        quantity = buy_inform[2]\n",
        "        if price * quantity > self.credit:\n",
        "            print(\"The agent can't buy\")\n",
        "            return\n",
        "        self.credit -= price * quantity\n",
        "        ticker_list = [i[0] for i in self.holding]\n",
        "        if ticker in ticker_list:\n",
        "            idx = ticker_list.index(ticker)\n",
        "            self.holding[idx][1] = price\n",
        "            self.holding[idx][2] += quantity\n",
        "        else:\n",
        "            self.holding.append([ticker, price, quantity])\n",
        "        print(f'The agent buys {quantity} {ticker} for {price}')\n",
        "    \n",
        "    def sell(self, sell_inform):\n",
        "        ticker = sell_inform[0]\n",
        "        price = sell_inform[1]\n",
        "        quantity = sell_inform[2]\n",
        "        ticker_list = [i[0] for i in self.holding]\n",
        "        if ticker not in ticker_list:\n",
        "            print(\"The agent can't sell\")\n",
        "            return\n",
        "        idx = ticker_list.index(ticker)\n",
        "        if self.holding[idx][2] < quantity:\n",
        "            print(\"The agent can't sell\")\n",
        "            return\n",
        "        self.credit += price * quantity\n",
        "        if self.holding[idx][2]  == quantity:\n",
        "            del self.holding[idx]\n",
        "        else:\n",
        "            self.holding[idx][2] -= quantity\n",
        "        print(f'The agent buys {quantity} {ticker} for {price}')"
      ]
    },
    {
      "cell_type": "markdown",
      "id": "24351d79",
      "metadata": {
        "id": "24351d79"
      },
      "source": [
        "### Test code"
      ]
    },
    {
      "cell_type": "code",
      "execution_count": 2,
      "id": "5a8c007a",
      "metadata": {
        "colab": {
          "base_uri": "https://localhost:8080/"
        },
        "id": "5a8c007a",
        "outputId": "a58e9a3e-9d20-4b09-9dae-6a63b49129f9"
      },
      "outputs": [
        {
          "output_type": "stream",
          "name": "stdout",
          "text": [
            "The agent is created\n"
          ]
        }
      ],
      "source": [
        "FBA_agent = Agent()"
      ]
    },
    {
      "cell_type": "code",
      "execution_count": 3,
      "id": "841dcc2b",
      "metadata": {
        "colab": {
          "base_uri": "https://localhost:8080/"
        },
        "id": "841dcc2b",
        "outputId": "cecf4546-7bd0-465f-b33d-9b4eef38f914"
      },
      "outputs": [
        {
          "output_type": "stream",
          "name": "stdout",
          "text": [
            "credit :  1000\n",
            "holding :  []\n"
          ]
        }
      ],
      "source": [
        "FBA_agent.check()"
      ]
    },
    {
      "cell_type": "code",
      "source": [
        "FBA_agent.buy(['AAPL', 135, 5])"
      ],
      "metadata": {
        "colab": {
          "base_uri": "https://localhost:8080/"
        },
        "id": "HNWMDYpmK31U",
        "outputId": "8bbae56c-4e07-45c2-9f3d-5b8b247a45d5"
      },
      "id": "HNWMDYpmK31U",
      "execution_count": 4,
      "outputs": [
        {
          "output_type": "stream",
          "name": "stdout",
          "text": [
            "The agent buys 5 AAPL for 135\n"
          ]
        }
      ]
    },
    {
      "cell_type": "code",
      "execution_count": 5,
      "id": "72a097a1",
      "metadata": {
        "colab": {
          "base_uri": "https://localhost:8080/"
        },
        "id": "72a097a1",
        "outputId": "2363166b-0c1c-4525-adfb-240edb30e70f"
      },
      "outputs": [
        {
          "output_type": "stream",
          "name": "stdout",
          "text": [
            "The agent can't buy\n"
          ]
        }
      ],
      "source": [
        "FBA_agent.buy(['GOOGL', 2300,1])"
      ]
    },
    {
      "cell_type": "code",
      "execution_count": 6,
      "id": "20016cf5",
      "metadata": {
        "colab": {
          "base_uri": "https://localhost:8080/"
        },
        "id": "20016cf5",
        "outputId": "a1198c55-5c61-4062-8ef3-8f890065c46b"
      },
      "outputs": [
        {
          "output_type": "stream",
          "name": "stdout",
          "text": [
            "The agent buys 3 AAPL for 140\n"
          ]
        }
      ],
      "source": [
        "FBA_agent.sell(['AAPL', 140, 3])"
      ]
    },
    {
      "cell_type": "code",
      "execution_count": 7,
      "id": "f94cc1b7",
      "metadata": {
        "colab": {
          "base_uri": "https://localhost:8080/"
        },
        "id": "f94cc1b7",
        "outputId": "1f34e7dd-cd29-4ae1-d18c-fd26abcdf20c"
      },
      "outputs": [
        {
          "output_type": "stream",
          "name": "stdout",
          "text": [
            "credit :  745\n",
            "holding :  [['AAPL', 135, 2]]\n"
          ]
        }
      ],
      "source": [
        "FBA_agent.check()"
      ]
    }
  ],
  "metadata": {
    "kernelspec": {
      "display_name": "Python 3.8.13 ('fba')",
      "language": "python",
      "name": "python3"
    },
    "language_info": {
      "codemirror_mode": {
        "name": "ipython",
        "version": 3
      },
      "file_extension": ".py",
      "mimetype": "text/x-python",
      "name": "python",
      "nbconvert_exporter": "python",
      "pygments_lexer": "ipython3",
      "version": "3.8.13"
    },
    "vscode": {
      "interpreter": {
        "hash": "daf925c4f4ddcd49fe0a58853186a30a4eef5faf7ba24c818045a83f2d789187"
      }
    },
    "colab": {
      "name": "FBA_agent.ipynb",
      "provenance": []
    }
  },
  "nbformat": 4,
  "nbformat_minor": 5
}