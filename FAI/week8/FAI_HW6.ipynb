{
  "nbformat": 4,
  "nbformat_minor": 0,
  "metadata": {
    "colab": {
      "provenance": [],
      "collapsed_sections": []
    },
    "kernelspec": {
      "name": "python3",
      "display_name": "Python 3"
    },
    "language_info": {
      "name": "python"
    }
  },
  "cells": [
    {
      "cell_type": "code",
      "execution_count": null,
      "metadata": {
        "id": "kKKxofyFwHG_"
      },
      "outputs": [],
      "source": [
        "# 1\n",
        "class MinStack:\n",
        "    def __init__(self):\n",
        "        self.stack = []\n",
        "\n",
        "    def push(self, val: int) -> None:\n",
        "        self.stack.append(val)\n",
        "    def pop(self) -> None:\n",
        "        self.stack.pop()\n",
        "    def top(self) -> int:\n",
        "        return self.stack[-1]\n",
        "    def getMin(self) -> int:\n",
        "        return min(self.stack)"
      ]
    },
    {
      "cell_type": "code",
      "source": [
        "# 2\n",
        "class MyQueue:\n",
        "\n",
        "    def __init__(self):\n",
        "        self.queue = []\n",
        "    def push(self, x: int) -> None:\n",
        "        self.queue.append(x)\n",
        "    def pop(self) -> int:\n",
        "        reversed_new_que = []\n",
        "        while len(self.queue) > 1:\n",
        "            reversed_new_que.append(self.queue.pop())\n",
        "        new_que = []\n",
        "        num = self.queue.pop()\n",
        "        while reversed_new_que:\n",
        "            new_que.append(reversed_new_que.pop())\n",
        "        self.queue = new_que\n",
        "        return num\n",
        "    def peek(self) -> int:\n",
        "        temp = self.queue.copy()\n",
        "        while temp:\n",
        "            num = temp.pop()\n",
        "        return num\n",
        "    def empty(self) -> bool:\n",
        "        return not(len(self.queue) > 0)"
      ],
      "metadata": {
        "colab": {
          "base_uri": "https://localhost:8080/"
        },
        "id": "lc0kptvYxSR2",
        "outputId": "a0f3f9e3-8c7b-46df-b297-063128305395"
      },
      "execution_count": null,
      "outputs": [
        {
          "output_type": "execute_result",
          "data": {
            "text/plain": [
              "2"
            ]
          },
          "metadata": {},
          "execution_count": 2
        }
      ]
    },
    {
      "cell_type": "code",
      "source": [
        "class Solution:\n",
        "    def evalRPN(self, tokens: List[str]) -> int:\n",
        "        result = 0\n",
        "        stack = []\n",
        "        operators = ['+', '-', '*', '/']\n",
        "        for token in tokens:\n",
        "            if token not in operators:\n",
        "                stack.append(int(token))\n",
        "            else:\n",
        "                num1 = stack.pop()\n",
        "                num2 = stack.pop()\n",
        "                if token == '+':\n",
        "                    stack.append(num2+num1)\n",
        "                elif token == '-':\n",
        "                    stack.append(num2-num1)\n",
        "                elif token == '*':\n",
        "                    stack.append(num2*num1)\n",
        "                else:\n",
        "                    stack.append(int(num2/num1))\n",
        "        return stack.pop()"
      ],
      "metadata": {
        "colab": {
          "base_uri": "https://localhost:8080/"
        },
        "id": "NutwBokZ29fl",
        "outputId": "10651866-0277-4b2c-e37f-06f278141c2b"
      },
      "execution_count": null,
      "outputs": [
        {
          "output_type": "execute_result",
          "data": {
            "text/plain": [
              "2"
            ]
          },
          "metadata": {},
          "execution_count": 3
        }
      ]
    }
  ]
}