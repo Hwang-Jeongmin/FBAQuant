{
  "nbformat": 4,
  "nbformat_minor": 0,
  "metadata": {
    "colab": {
      "provenance": [],
      "collapsed_sections": []
    },
    "kernelspec": {
      "name": "python3",
      "display_name": "Python 3"
    },
    "language_info": {
      "name": "python"
    }
  },
  "cells": [
    {
      "cell_type": "markdown",
      "source": [
        "## 2"
      ],
      "metadata": {
        "id": "y4y5aQeuE9dv"
      }
    },
    {
      "cell_type": "markdown",
      "source": [
        "#### (a)"
      ],
      "metadata": {
        "id": "sU5nPI58Gg5F"
      }
    },
    {
      "cell_type": "code",
      "source": [
        "!pip install yfinance -q"
      ],
      "metadata": {
        "id": "cG_Ac95lE_Gz",
        "colab": {
          "base_uri": "https://localhost:8080/"
        },
        "outputId": "ba2ef96e-acba-482b-c096-0c1dc83db0f0"
      },
      "execution_count": null,
      "outputs": [
        {
          "output_type": "stream",
          "name": "stdout",
          "text": [
            "\u001b[?25l\r\u001b[K     |█████▏                          | 10 kB 26.9 MB/s eta 0:00:01\r\u001b[K     |██████████▍                     | 20 kB 31.8 MB/s eta 0:00:01\r\u001b[K     |███████████████▋                | 30 kB 35.8 MB/s eta 0:00:01\r\u001b[K     |████████████████████▉           | 40 kB 21.1 MB/s eta 0:00:01\r\u001b[K     |██████████████████████████      | 51 kB 10.9 MB/s eta 0:00:01\r\u001b[K     |███████████████████████████████▎| 61 kB 12.6 MB/s eta 0:00:01\r\u001b[K     |████████████████████████████████| 62 kB 1.5 MB/s \n",
            "\u001b[?25h"
          ]
        }
      ]
    },
    {
      "cell_type": "code",
      "source": [
        "import pandas as pd\n",
        "import numpy as np\n",
        "import warnings\n",
        "warnings.filterwarnings('ignore')"
      ],
      "metadata": {
        "id": "6_nbndBNFkxM"
      },
      "execution_count": null,
      "outputs": []
    },
    {
      "cell_type": "code",
      "source": [
        "data = pd.read_csv('constituents.csv')\n",
        "data\n",
        "print(\"Shape of data: \", data.shape)\n",
        "symbol_list = data.Symbol.tolist()"
      ],
      "metadata": {
        "id": "wSZYE9vWFmeR",
        "colab": {
          "base_uri": "https://localhost:8080/"
        },
        "outputId": "8d2652a8-f88c-440d-9669-bb0536d241d1"
      },
      "execution_count": null,
      "outputs": [
        {
          "output_type": "stream",
          "name": "stdout",
          "text": [
            "Shape of data:  (505, 3)\n"
          ]
        }
      ]
    },
    {
      "cell_type": "code",
      "source": [
        "import pandas_datareader.data as web\n",
        "import yfinance as yf\n",
        "yf.pdr_override()\n",
        "\n",
        "start_date = '2012-06-11'\n",
        "end_date = '2022-06-09'\n",
        "df = web.get_data_yahoo(symbol_list, start=start_date, end = end_date)"
      ],
      "metadata": {
        "id": "bkpfR37CFo_U",
        "colab": {
          "base_uri": "https://localhost:8080/"
        },
        "outputId": "b67150f2-81e2-4448-c40d-249363380fcf"
      },
      "execution_count": null,
      "outputs": [
        {
          "output_type": "stream",
          "name": "stdout",
          "text": [
            "[*********************100%***********************]  505 of 505 completed\n",
            "\n",
            "15 Failed downloads:\n",
            "- DD: No data found for this date range, symbol may be delisted\n",
            "- ANTM: No data found, symbol may be delisted\n",
            "- BLL: No data found, symbol may be delisted\n",
            "- FB: No data found, symbol may be delisted\n",
            "- DISCK: No data found, symbol may be delisted\n",
            "- XLNX: No data found, symbol may be delisted\n",
            "- DISCA: No data found, symbol may be delisted\n",
            "- CERN: No data found, symbol may be delisted\n",
            "- INFO: No data found, symbol may be delisted\n",
            "- BF.B: No data found for this date range, symbol may be delisted\n",
            "- KSU: No data found, symbol may be delisted\n",
            "- PBCT: No data found, symbol may be delisted\n",
            "- WLTW: No data found, symbol may be delisted\n",
            "- VIAC: No data found, symbol may be delisted\n",
            "- BRK.B: No data found, symbol may be delisted\n"
          ]
        }
      ]
    },
    {
      "cell_type": "code",
      "source": [
        "adj_close_data = df['Adj Close']\n",
        "print(\"Shape of Data: \", adj_close_data.shape)"
      ],
      "metadata": {
        "id": "6VC1w_8eFp58",
        "colab": {
          "base_uri": "https://localhost:8080/"
        },
        "outputId": "e036abcb-e571-4da7-8369-5e4204aee408"
      },
      "execution_count": null,
      "outputs": [
        {
          "output_type": "stream",
          "name": "stdout",
          "text": [
            "Shape of Data:  (2516, 505)\n"
          ]
        }
      ]
    },
    {
      "cell_type": "code",
      "source": [
        "start = '2012-06-12'\n",
        "end = '2022-06-09'\n",
        "close = adj_close_data[(adj_close_data.index >= start) & (adj_close_data.index <= end)]\n",
        "close = close[['AAPL', 'GOOG', 'TSLA']]"
      ],
      "metadata": {
        "id": "QkD3C0sTF5Xf"
      },
      "execution_count": null,
      "outputs": []
    },
    {
      "cell_type": "code",
      "source": [
        "df.head()"
      ],
      "metadata": {
        "colab": {
          "base_uri": "https://localhost:8080/",
          "height": 449
        },
        "id": "DCyiTcrjI_hX",
        "outputId": "e3e856e0-801a-47bd-a9c4-af871fbcaf2c"
      },
      "execution_count": null,
      "outputs": [
        {
          "output_type": "execute_result",
          "data": {
            "text/plain": [
              "            Adj Close                                                   \\\n",
              "                    A        AAL        AAP       AAPL ABBV        ABC   \n",
              "Date                                                                     \n",
              "2012-06-11  25.421358  10.709542  67.725334  17.417259  NaN  31.003254   \n",
              "2012-06-12  25.740919  10.775536  68.832703  17.569418  NaN  31.462427   \n",
              "2012-06-13  25.434402  11.284616  66.195740  17.447445  NaN  30.994751   \n",
              "2012-06-14  25.662659  11.765414  66.308372  17.428232  NaN  31.428419   \n",
              "2012-06-15  26.093084  11.341179  65.445023  17.507515  NaN  31.709030   \n",
              "\n",
              "                                                        ...   Volume       \\\n",
              "                 ABMD        ABT        ACN       ADBE  ...      XEL XLNX   \n",
              "Date                                                    ...                 \n",
              "2012-06-11  21.190001  24.169592  47.331696  31.129999  ...  9478600  NaN   \n",
              "2012-06-12  21.450001  24.346411  47.430946  31.770000  ...  3333500  NaN   \n",
              "2012-06-13  20.950001  24.169592  47.083591  31.790001  ...  2429600  NaN   \n",
              "2012-06-14  21.420000  24.417143  47.836205  31.670000  ...  2029200  NaN   \n",
              "2012-06-15  22.150000  24.558598  48.861744  32.389999  ...  3033500  NaN   \n",
              "\n",
              "                                                                               \n",
              "                 XOM     XRAY      XYL      YUM      ZBH    ZBRA     ZION ZTS  \n",
              "Date                                                                           \n",
              "2012-06-11  18031800   559800   816100  7750374   762200  314600  2794100 NaN  \n",
              "2012-06-12  14162100   629000  1222700  6142795   684023  195700  2418100 NaN  \n",
              "2012-06-13  15098100   663200   891300  4663328   663835  203300  1932100 NaN  \n",
              "2012-06-14  16942300   845200  1478400  5460649   994980  192000  2060200 NaN  \n",
              "2012-06-15  27342800  1386500  3023700  4794499  3389524  336400  3039100 NaN  \n",
              "\n",
              "[5 rows x 3030 columns]"
            ],
            "text/html": [
              "\n",
              "  <div id=\"df-7bb07c4f-1fee-4b47-b597-51168cbc3bed\">\n",
              "    <div class=\"colab-df-container\">\n",
              "      <div>\n",
              "<style scoped>\n",
              "    .dataframe tbody tr th:only-of-type {\n",
              "        vertical-align: middle;\n",
              "    }\n",
              "\n",
              "    .dataframe tbody tr th {\n",
              "        vertical-align: top;\n",
              "    }\n",
              "\n",
              "    .dataframe thead tr th {\n",
              "        text-align: left;\n",
              "    }\n",
              "\n",
              "    .dataframe thead tr:last-of-type th {\n",
              "        text-align: right;\n",
              "    }\n",
              "</style>\n",
              "<table border=\"1\" class=\"dataframe\">\n",
              "  <thead>\n",
              "    <tr>\n",
              "      <th></th>\n",
              "      <th colspan=\"10\" halign=\"left\">Adj Close</th>\n",
              "      <th>...</th>\n",
              "      <th colspan=\"10\" halign=\"left\">Volume</th>\n",
              "    </tr>\n",
              "    <tr>\n",
              "      <th></th>\n",
              "      <th>A</th>\n",
              "      <th>AAL</th>\n",
              "      <th>AAP</th>\n",
              "      <th>AAPL</th>\n",
              "      <th>ABBV</th>\n",
              "      <th>ABC</th>\n",
              "      <th>ABMD</th>\n",
              "      <th>ABT</th>\n",
              "      <th>ACN</th>\n",
              "      <th>ADBE</th>\n",
              "      <th>...</th>\n",
              "      <th>XEL</th>\n",
              "      <th>XLNX</th>\n",
              "      <th>XOM</th>\n",
              "      <th>XRAY</th>\n",
              "      <th>XYL</th>\n",
              "      <th>YUM</th>\n",
              "      <th>ZBH</th>\n",
              "      <th>ZBRA</th>\n",
              "      <th>ZION</th>\n",
              "      <th>ZTS</th>\n",
              "    </tr>\n",
              "    <tr>\n",
              "      <th>Date</th>\n",
              "      <th></th>\n",
              "      <th></th>\n",
              "      <th></th>\n",
              "      <th></th>\n",
              "      <th></th>\n",
              "      <th></th>\n",
              "      <th></th>\n",
              "      <th></th>\n",
              "      <th></th>\n",
              "      <th></th>\n",
              "      <th></th>\n",
              "      <th></th>\n",
              "      <th></th>\n",
              "      <th></th>\n",
              "      <th></th>\n",
              "      <th></th>\n",
              "      <th></th>\n",
              "      <th></th>\n",
              "      <th></th>\n",
              "      <th></th>\n",
              "      <th></th>\n",
              "    </tr>\n",
              "  </thead>\n",
              "  <tbody>\n",
              "    <tr>\n",
              "      <th>2012-06-11</th>\n",
              "      <td>25.421358</td>\n",
              "      <td>10.709542</td>\n",
              "      <td>67.725334</td>\n",
              "      <td>17.417259</td>\n",
              "      <td>NaN</td>\n",
              "      <td>31.003254</td>\n",
              "      <td>21.190001</td>\n",
              "      <td>24.169592</td>\n",
              "      <td>47.331696</td>\n",
              "      <td>31.129999</td>\n",
              "      <td>...</td>\n",
              "      <td>9478600</td>\n",
              "      <td>NaN</td>\n",
              "      <td>18031800</td>\n",
              "      <td>559800</td>\n",
              "      <td>816100</td>\n",
              "      <td>7750374</td>\n",
              "      <td>762200</td>\n",
              "      <td>314600</td>\n",
              "      <td>2794100</td>\n",
              "      <td>NaN</td>\n",
              "    </tr>\n",
              "    <tr>\n",
              "      <th>2012-06-12</th>\n",
              "      <td>25.740919</td>\n",
              "      <td>10.775536</td>\n",
              "      <td>68.832703</td>\n",
              "      <td>17.569418</td>\n",
              "      <td>NaN</td>\n",
              "      <td>31.462427</td>\n",
              "      <td>21.450001</td>\n",
              "      <td>24.346411</td>\n",
              "      <td>47.430946</td>\n",
              "      <td>31.770000</td>\n",
              "      <td>...</td>\n",
              "      <td>3333500</td>\n",
              "      <td>NaN</td>\n",
              "      <td>14162100</td>\n",
              "      <td>629000</td>\n",
              "      <td>1222700</td>\n",
              "      <td>6142795</td>\n",
              "      <td>684023</td>\n",
              "      <td>195700</td>\n",
              "      <td>2418100</td>\n",
              "      <td>NaN</td>\n",
              "    </tr>\n",
              "    <tr>\n",
              "      <th>2012-06-13</th>\n",
              "      <td>25.434402</td>\n",
              "      <td>11.284616</td>\n",
              "      <td>66.195740</td>\n",
              "      <td>17.447445</td>\n",
              "      <td>NaN</td>\n",
              "      <td>30.994751</td>\n",
              "      <td>20.950001</td>\n",
              "      <td>24.169592</td>\n",
              "      <td>47.083591</td>\n",
              "      <td>31.790001</td>\n",
              "      <td>...</td>\n",
              "      <td>2429600</td>\n",
              "      <td>NaN</td>\n",
              "      <td>15098100</td>\n",
              "      <td>663200</td>\n",
              "      <td>891300</td>\n",
              "      <td>4663328</td>\n",
              "      <td>663835</td>\n",
              "      <td>203300</td>\n",
              "      <td>1932100</td>\n",
              "      <td>NaN</td>\n",
              "    </tr>\n",
              "    <tr>\n",
              "      <th>2012-06-14</th>\n",
              "      <td>25.662659</td>\n",
              "      <td>11.765414</td>\n",
              "      <td>66.308372</td>\n",
              "      <td>17.428232</td>\n",
              "      <td>NaN</td>\n",
              "      <td>31.428419</td>\n",
              "      <td>21.420000</td>\n",
              "      <td>24.417143</td>\n",
              "      <td>47.836205</td>\n",
              "      <td>31.670000</td>\n",
              "      <td>...</td>\n",
              "      <td>2029200</td>\n",
              "      <td>NaN</td>\n",
              "      <td>16942300</td>\n",
              "      <td>845200</td>\n",
              "      <td>1478400</td>\n",
              "      <td>5460649</td>\n",
              "      <td>994980</td>\n",
              "      <td>192000</td>\n",
              "      <td>2060200</td>\n",
              "      <td>NaN</td>\n",
              "    </tr>\n",
              "    <tr>\n",
              "      <th>2012-06-15</th>\n",
              "      <td>26.093084</td>\n",
              "      <td>11.341179</td>\n",
              "      <td>65.445023</td>\n",
              "      <td>17.507515</td>\n",
              "      <td>NaN</td>\n",
              "      <td>31.709030</td>\n",
              "      <td>22.150000</td>\n",
              "      <td>24.558598</td>\n",
              "      <td>48.861744</td>\n",
              "      <td>32.389999</td>\n",
              "      <td>...</td>\n",
              "      <td>3033500</td>\n",
              "      <td>NaN</td>\n",
              "      <td>27342800</td>\n",
              "      <td>1386500</td>\n",
              "      <td>3023700</td>\n",
              "      <td>4794499</td>\n",
              "      <td>3389524</td>\n",
              "      <td>336400</td>\n",
              "      <td>3039100</td>\n",
              "      <td>NaN</td>\n",
              "    </tr>\n",
              "  </tbody>\n",
              "</table>\n",
              "<p>5 rows × 3030 columns</p>\n",
              "</div>\n",
              "      <button class=\"colab-df-convert\" onclick=\"convertToInteractive('df-7bb07c4f-1fee-4b47-b597-51168cbc3bed')\"\n",
              "              title=\"Convert this dataframe to an interactive table.\"\n",
              "              style=\"display:none;\">\n",
              "        \n",
              "  <svg xmlns=\"http://www.w3.org/2000/svg\" height=\"24px\"viewBox=\"0 0 24 24\"\n",
              "       width=\"24px\">\n",
              "    <path d=\"M0 0h24v24H0V0z\" fill=\"none\"/>\n",
              "    <path d=\"M18.56 5.44l.94 2.06.94-2.06 2.06-.94-2.06-.94-.94-2.06-.94 2.06-2.06.94zm-11 1L8.5 8.5l.94-2.06 2.06-.94-2.06-.94L8.5 2.5l-.94 2.06-2.06.94zm10 10l.94 2.06.94-2.06 2.06-.94-2.06-.94-.94-2.06-.94 2.06-2.06.94z\"/><path d=\"M17.41 7.96l-1.37-1.37c-.4-.4-.92-.59-1.43-.59-.52 0-1.04.2-1.43.59L10.3 9.45l-7.72 7.72c-.78.78-.78 2.05 0 2.83L4 21.41c.39.39.9.59 1.41.59.51 0 1.02-.2 1.41-.59l7.78-7.78 2.81-2.81c.8-.78.8-2.07 0-2.86zM5.41 20L4 18.59l7.72-7.72 1.47 1.35L5.41 20z\"/>\n",
              "  </svg>\n",
              "      </button>\n",
              "      \n",
              "  <style>\n",
              "    .colab-df-container {\n",
              "      display:flex;\n",
              "      flex-wrap:wrap;\n",
              "      gap: 12px;\n",
              "    }\n",
              "\n",
              "    .colab-df-convert {\n",
              "      background-color: #E8F0FE;\n",
              "      border: none;\n",
              "      border-radius: 50%;\n",
              "      cursor: pointer;\n",
              "      display: none;\n",
              "      fill: #1967D2;\n",
              "      height: 32px;\n",
              "      padding: 0 0 0 0;\n",
              "      width: 32px;\n",
              "    }\n",
              "\n",
              "    .colab-df-convert:hover {\n",
              "      background-color: #E2EBFA;\n",
              "      box-shadow: 0px 1px 2px rgba(60, 64, 67, 0.3), 0px 1px 3px 1px rgba(60, 64, 67, 0.15);\n",
              "      fill: #174EA6;\n",
              "    }\n",
              "\n",
              "    [theme=dark] .colab-df-convert {\n",
              "      background-color: #3B4455;\n",
              "      fill: #D2E3FC;\n",
              "    }\n",
              "\n",
              "    [theme=dark] .colab-df-convert:hover {\n",
              "      background-color: #434B5C;\n",
              "      box-shadow: 0px 1px 3px 1px rgba(0, 0, 0, 0.15);\n",
              "      filter: drop-shadow(0px 1px 2px rgba(0, 0, 0, 0.3));\n",
              "      fill: #FFFFFF;\n",
              "    }\n",
              "  </style>\n",
              "\n",
              "      <script>\n",
              "        const buttonEl =\n",
              "          document.querySelector('#df-7bb07c4f-1fee-4b47-b597-51168cbc3bed button.colab-df-convert');\n",
              "        buttonEl.style.display =\n",
              "          google.colab.kernel.accessAllowed ? 'block' : 'none';\n",
              "\n",
              "        async function convertToInteractive(key) {\n",
              "          const element = document.querySelector('#df-7bb07c4f-1fee-4b47-b597-51168cbc3bed');\n",
              "          const dataTable =\n",
              "            await google.colab.kernel.invokeFunction('convertToInteractive',\n",
              "                                                     [key], {});\n",
              "          if (!dataTable) return;\n",
              "\n",
              "          const docLinkHtml = 'Like what you see? Visit the ' +\n",
              "            '<a target=\"_blank\" href=https://colab.research.google.com/notebooks/data_table.ipynb>data table notebook</a>'\n",
              "            + ' to learn more about interactive tables.';\n",
              "          element.innerHTML = '';\n",
              "          dataTable['output_type'] = 'display_data';\n",
              "          await google.colab.output.renderOutput(dataTable, element);\n",
              "          const docLink = document.createElement('div');\n",
              "          docLink.innerHTML = docLinkHtml;\n",
              "          element.appendChild(docLink);\n",
              "        }\n",
              "      </script>\n",
              "    </div>\n",
              "  </div>\n",
              "  "
            ]
          },
          "metadata": {},
          "execution_count": 111
        }
      ]
    },
    {
      "cell_type": "code",
      "source": [
        "daily_prices_return = close.pct_change().dropna()\n",
        "daily_prices_return.head()"
      ],
      "metadata": {
        "id": "LfvfhqmfF8WQ",
        "colab": {
          "base_uri": "https://localhost:8080/",
          "height": 238
        },
        "outputId": "f3878f6a-bbe7-4510-98ff-68e341b8ab11"
      },
      "execution_count": null,
      "outputs": [
        {
          "output_type": "execute_result",
          "data": {
            "text/plain": [
              "                AAPL      GOOG      TSLA\n",
              "Date                                    \n",
              "2012-06-13 -0.006942 -0.007096  0.003709\n",
              "2012-06-14 -0.001101 -0.003636 -0.012765\n",
              "2012-06-15  0.004549  0.009767  0.017693\n",
              "2012-06-18  0.020292  0.011231  0.064527\n",
              "2012-06-19  0.002782  0.018709  0.007851"
            ],
            "text/html": [
              "\n",
              "  <div id=\"df-147a60a7-fc17-4fa4-a508-8901cab36575\">\n",
              "    <div class=\"colab-df-container\">\n",
              "      <div>\n",
              "<style scoped>\n",
              "    .dataframe tbody tr th:only-of-type {\n",
              "        vertical-align: middle;\n",
              "    }\n",
              "\n",
              "    .dataframe tbody tr th {\n",
              "        vertical-align: top;\n",
              "    }\n",
              "\n",
              "    .dataframe thead th {\n",
              "        text-align: right;\n",
              "    }\n",
              "</style>\n",
              "<table border=\"1\" class=\"dataframe\">\n",
              "  <thead>\n",
              "    <tr style=\"text-align: right;\">\n",
              "      <th></th>\n",
              "      <th>AAPL</th>\n",
              "      <th>GOOG</th>\n",
              "      <th>TSLA</th>\n",
              "    </tr>\n",
              "    <tr>\n",
              "      <th>Date</th>\n",
              "      <th></th>\n",
              "      <th></th>\n",
              "      <th></th>\n",
              "    </tr>\n",
              "  </thead>\n",
              "  <tbody>\n",
              "    <tr>\n",
              "      <th>2012-06-13</th>\n",
              "      <td>-0.006942</td>\n",
              "      <td>-0.007096</td>\n",
              "      <td>0.003709</td>\n",
              "    </tr>\n",
              "    <tr>\n",
              "      <th>2012-06-14</th>\n",
              "      <td>-0.001101</td>\n",
              "      <td>-0.003636</td>\n",
              "      <td>-0.012765</td>\n",
              "    </tr>\n",
              "    <tr>\n",
              "      <th>2012-06-15</th>\n",
              "      <td>0.004549</td>\n",
              "      <td>0.009767</td>\n",
              "      <td>0.017693</td>\n",
              "    </tr>\n",
              "    <tr>\n",
              "      <th>2012-06-18</th>\n",
              "      <td>0.020292</td>\n",
              "      <td>0.011231</td>\n",
              "      <td>0.064527</td>\n",
              "    </tr>\n",
              "    <tr>\n",
              "      <th>2012-06-19</th>\n",
              "      <td>0.002782</td>\n",
              "      <td>0.018709</td>\n",
              "      <td>0.007851</td>\n",
              "    </tr>\n",
              "  </tbody>\n",
              "</table>\n",
              "</div>\n",
              "      <button class=\"colab-df-convert\" onclick=\"convertToInteractive('df-147a60a7-fc17-4fa4-a508-8901cab36575')\"\n",
              "              title=\"Convert this dataframe to an interactive table.\"\n",
              "              style=\"display:none;\">\n",
              "        \n",
              "  <svg xmlns=\"http://www.w3.org/2000/svg\" height=\"24px\"viewBox=\"0 0 24 24\"\n",
              "       width=\"24px\">\n",
              "    <path d=\"M0 0h24v24H0V0z\" fill=\"none\"/>\n",
              "    <path d=\"M18.56 5.44l.94 2.06.94-2.06 2.06-.94-2.06-.94-.94-2.06-.94 2.06-2.06.94zm-11 1L8.5 8.5l.94-2.06 2.06-.94-2.06-.94L8.5 2.5l-.94 2.06-2.06.94zm10 10l.94 2.06.94-2.06 2.06-.94-2.06-.94-.94-2.06-.94 2.06-2.06.94z\"/><path d=\"M17.41 7.96l-1.37-1.37c-.4-.4-.92-.59-1.43-.59-.52 0-1.04.2-1.43.59L10.3 9.45l-7.72 7.72c-.78.78-.78 2.05 0 2.83L4 21.41c.39.39.9.59 1.41.59.51 0 1.02-.2 1.41-.59l7.78-7.78 2.81-2.81c.8-.78.8-2.07 0-2.86zM5.41 20L4 18.59l7.72-7.72 1.47 1.35L5.41 20z\"/>\n",
              "  </svg>\n",
              "      </button>\n",
              "      \n",
              "  <style>\n",
              "    .colab-df-container {\n",
              "      display:flex;\n",
              "      flex-wrap:wrap;\n",
              "      gap: 12px;\n",
              "    }\n",
              "\n",
              "    .colab-df-convert {\n",
              "      background-color: #E8F0FE;\n",
              "      border: none;\n",
              "      border-radius: 50%;\n",
              "      cursor: pointer;\n",
              "      display: none;\n",
              "      fill: #1967D2;\n",
              "      height: 32px;\n",
              "      padding: 0 0 0 0;\n",
              "      width: 32px;\n",
              "    }\n",
              "\n",
              "    .colab-df-convert:hover {\n",
              "      background-color: #E2EBFA;\n",
              "      box-shadow: 0px 1px 2px rgba(60, 64, 67, 0.3), 0px 1px 3px 1px rgba(60, 64, 67, 0.15);\n",
              "      fill: #174EA6;\n",
              "    }\n",
              "\n",
              "    [theme=dark] .colab-df-convert {\n",
              "      background-color: #3B4455;\n",
              "      fill: #D2E3FC;\n",
              "    }\n",
              "\n",
              "    [theme=dark] .colab-df-convert:hover {\n",
              "      background-color: #434B5C;\n",
              "      box-shadow: 0px 1px 3px 1px rgba(0, 0, 0, 0.15);\n",
              "      filter: drop-shadow(0px 1px 2px rgba(0, 0, 0, 0.3));\n",
              "      fill: #FFFFFF;\n",
              "    }\n",
              "  </style>\n",
              "\n",
              "      <script>\n",
              "        const buttonEl =\n",
              "          document.querySelector('#df-147a60a7-fc17-4fa4-a508-8901cab36575 button.colab-df-convert');\n",
              "        buttonEl.style.display =\n",
              "          google.colab.kernel.accessAllowed ? 'block' : 'none';\n",
              "\n",
              "        async function convertToInteractive(key) {\n",
              "          const element = document.querySelector('#df-147a60a7-fc17-4fa4-a508-8901cab36575');\n",
              "          const dataTable =\n",
              "            await google.colab.kernel.invokeFunction('convertToInteractive',\n",
              "                                                     [key], {});\n",
              "          if (!dataTable) return;\n",
              "\n",
              "          const docLinkHtml = 'Like what you see? Visit the ' +\n",
              "            '<a target=\"_blank\" href=https://colab.research.google.com/notebooks/data_table.ipynb>data table notebook</a>'\n",
              "            + ' to learn more about interactive tables.';\n",
              "          element.innerHTML = '';\n",
              "          dataTable['output_type'] = 'display_data';\n",
              "          await google.colab.output.renderOutput(dataTable, element);\n",
              "          const docLink = document.createElement('div');\n",
              "          docLink.innerHTML = docLinkHtml;\n",
              "          element.appendChild(docLink);\n",
              "        }\n",
              "      </script>\n",
              "    </div>\n",
              "  </div>\n",
              "  "
            ]
          },
          "metadata": {},
          "execution_count": 112
        }
      ]
    },
    {
      "cell_type": "markdown",
      "source": [
        "#### (b)"
      ],
      "metadata": {
        "id": "KzcbRjBmGmv_"
      }
    },
    {
      "cell_type": "code",
      "source": [
        "periods_per_year = 252\n",
        "n_years = daily_prices_return.shape[0] / periods_per_year\n",
        "annualized_return = np.power(np.prod(1+daily_prices_return), (1/n_years)) - 1\n",
        "annualized_vol = daily_prices_return.std() / np.sqrt(periods_per_year)\n",
        "MDD = (close.max() - close.min()) / close.max() * 100"
      ],
      "metadata": {
        "id": "VyyGYEQmGtUi"
      },
      "execution_count": null,
      "outputs": []
    },
    {
      "cell_type": "code",
      "source": [
        "print(annualized_return)\n",
        "print(annualized_vol)\n",
        "print(MDD)"
      ],
      "metadata": {
        "colab": {
          "base_uri": "https://localhost:8080/"
        },
        "id": "il2RS8HWa0_S",
        "outputId": "dc25badd-fcd2-442a-c594-e80ab7556b6b"
      },
      "execution_count": null,
      "outputs": [
        {
          "output_type": "stream",
          "name": "stdout",
          "text": [
            "AAPL    0.237939\n",
            "GOOG    0.236752\n",
            "TSLA    0.619004\n",
            "dtype: float64\n",
            "AAPL    0.001134\n",
            "GOOG    0.001027\n",
            "TSLA    0.002237\n",
            "dtype: float64\n",
            "AAPL    99.448306\n",
            "GOOG    99.336470\n",
            "TSLA    99.754519\n",
            "dtype: float64\n"
          ]
        }
      ]
    },
    {
      "cell_type": "code",
      "source": [
        "def start_end_of_drawdown(close):\n",
        "  start_list = []\n",
        "  end_list = []\n",
        "  for column in close.columns:\n",
        "    high = close[column][(close == close.max())[column]].index[0]\n",
        "    low = close[column][(close == close.min())[column]].index[0]\n",
        "    start, end = sorted([high, low])\n",
        "    start_list.append(start)\n",
        "    end_list.append(end)\n",
        "  start = pd.Series(start_list, index=close.columns)\n",
        "  end = pd.Series(end_list, index=close.columns)\n",
        "  return start, end"
      ],
      "metadata": {
        "id": "WZilX8TlPM6T"
      },
      "execution_count": null,
      "outputs": []
    },
    {
      "cell_type": "code",
      "source": [
        "start, end = start_end_of_drawdown(close)"
      ],
      "metadata": {
        "id": "-TfIIOt7UYUC"
      },
      "execution_count": null,
      "outputs": []
    },
    {
      "cell_type": "markdown",
      "source": [
        "#### (C)"
      ],
      "metadata": {
        "id": "zzmmov0jGt7q"
      }
    },
    {
      "cell_type": "code",
      "source": [
        "start, end = '2012-06-12', '2022-06-09'\n",
        "high_data, low_data = df['High'], df['Low']\n",
        "high = high_data[(high_data.index >= start) & (high_data.index <= end)]\n",
        "high = high[['AAPL', 'GOOG', 'TSLA']]\n",
        "low = low_data[(low_data.index >= start) & (low_data.index <= end)]\n",
        "low = low[['AAPL', 'GOOG', 'TSLA']]"
      ],
      "metadata": {
        "id": "8R15mfAYGvKb"
      },
      "execution_count": null,
      "outputs": []
    },
    {
      "cell_type": "code",
      "source": [
        "def get_high_lows_lookback(high, low, lookback_days):\n",
        "    high_df = high.rolling(lookback_days).max().shift(1)\n",
        "    low_df = low.rolling(lookback_days).min().shift(1)\n",
        "    return high_df, low_df"
      ],
      "metadata": {
        "id": "RR6WmTftUpLC"
      },
      "execution_count": null,
      "outputs": []
    },
    {
      "cell_type": "code",
      "source": [
        "lookback_days = 50\n",
        "lookback_high, lookback_low = get_high_lows_lookback(high, low, lookback_days)"
      ],
      "metadata": {
        "id": "kGgstfxyYxI_"
      },
      "execution_count": null,
      "outputs": []
    },
    {
      "cell_type": "code",
      "source": [
        "def get_long_short(close, lookback_high, lookback_low):\n",
        "    return_df = close.copy()\n",
        "    return_df[:] = 0\n",
        "    return_df[close > lookback_high] = 1\n",
        "    return_df[close < lookback_low] = -1\n",
        "    return_df = return_df.astype('int64')\n",
        "    return return_df"
      ],
      "metadata": {
        "id": "wUV8bxZ6Y92f"
      },
      "execution_count": null,
      "outputs": []
    },
    {
      "cell_type": "code",
      "source": [
        "signal = get_long_short(close, lookback_high, lookback_low)"
      ],
      "metadata": {
        "id": "tWufvI41Y-iv"
      },
      "execution_count": null,
      "outputs": []
    },
    {
      "cell_type": "code",
      "source": [
        "def clear_signals(signals, window_size):\n",
        "    # Start with buffer of window size\n",
        "    # This handles the edge case of calculating past_signal in the beginning\n",
        "    clean_signals = [0]*window_size\n",
        "    \n",
        "    for signal_i, current_signal in enumerate(signals):\n",
        "        # Check if there was a signal in the past window_size of days\n",
        "        has_past_signal = bool(sum(clean_signals[signal_i:signal_i+window_size]))\n",
        "        # Use the current signal if there's no past signal, else 0/False\n",
        "        clean_signals.append(not has_past_signal and current_signal)\n",
        "        \n",
        "    # Remove buffer\n",
        "    clean_signals = clean_signals[window_size:]\n",
        "\n",
        "    # Return the signals as a Series of Ints\n",
        "    return pd.Series(np.array(clean_signals).astype(np.int), signals.index)\n",
        "\n",
        "\n",
        "def filter_signals(signal, lookahead_days):\n",
        "    columns = signal.columns\n",
        "    return_df = pd.DataFrame()\n",
        "    for column in columns:\n",
        "        data = signal[column]\n",
        "        positive_signal = data.copy()\n",
        "        negative_signal = data.copy()\n",
        "        positive_signal[positive_signal < 0] = 0\n",
        "        negative_signal[negative_signal > 0] = 0\n",
        "        cleared_positive_signal = clear_signals(positive_signal, lookahead_days)\n",
        "        cleared_negative_signal = clear_signals(negative_signal*-1, lookahead_days)\n",
        "        cleared_signal = cleared_positive_signal + cleared_negative_signal * (-1)\n",
        "        return_df[column] = cleared_signal\n",
        "    return_df = return_df.astype('int64')\n",
        "    return return_df"
      ],
      "metadata": {
        "id": "b3QRmS0QZwUA"
      },
      "execution_count": null,
      "outputs": []
    },
    {
      "cell_type": "code",
      "source": [
        "filtered_signal = filter_signals(signal, 5)\n",
        "filtered_signal"
      ],
      "metadata": {
        "colab": {
          "base_uri": "https://localhost:8080/",
          "height": 455
        },
        "id": "sIfOpPD8aIM7",
        "outputId": "562b2b98-7509-488a-cf30-2854f635294c"
      },
      "execution_count": null,
      "outputs": [
        {
          "output_type": "execute_result",
          "data": {
            "text/plain": [
              "            AAPL  GOOG  TSLA\n",
              "Date                        \n",
              "2012-06-12     0     0     0\n",
              "2012-06-13     0     0     0\n",
              "2012-06-14     0     0     0\n",
              "2012-06-15     0     0     0\n",
              "2012-06-18     0     0     0\n",
              "...          ...   ...   ...\n",
              "2022-06-02     0     0     0\n",
              "2022-06-03     0     0     0\n",
              "2022-06-06     0     0     0\n",
              "2022-06-07     0     0     0\n",
              "2022-06-08     0     0     0\n",
              "\n",
              "[2515 rows x 3 columns]"
            ],
            "text/html": [
              "\n",
              "  <div id=\"df-78a481af-749a-406d-b3a9-b48546c8a6dd\">\n",
              "    <div class=\"colab-df-container\">\n",
              "      <div>\n",
              "<style scoped>\n",
              "    .dataframe tbody tr th:only-of-type {\n",
              "        vertical-align: middle;\n",
              "    }\n",
              "\n",
              "    .dataframe tbody tr th {\n",
              "        vertical-align: top;\n",
              "    }\n",
              "\n",
              "    .dataframe thead th {\n",
              "        text-align: right;\n",
              "    }\n",
              "</style>\n",
              "<table border=\"1\" class=\"dataframe\">\n",
              "  <thead>\n",
              "    <tr style=\"text-align: right;\">\n",
              "      <th></th>\n",
              "      <th>AAPL</th>\n",
              "      <th>GOOG</th>\n",
              "      <th>TSLA</th>\n",
              "    </tr>\n",
              "    <tr>\n",
              "      <th>Date</th>\n",
              "      <th></th>\n",
              "      <th></th>\n",
              "      <th></th>\n",
              "    </tr>\n",
              "  </thead>\n",
              "  <tbody>\n",
              "    <tr>\n",
              "      <th>2012-06-12</th>\n",
              "      <td>0</td>\n",
              "      <td>0</td>\n",
              "      <td>0</td>\n",
              "    </tr>\n",
              "    <tr>\n",
              "      <th>2012-06-13</th>\n",
              "      <td>0</td>\n",
              "      <td>0</td>\n",
              "      <td>0</td>\n",
              "    </tr>\n",
              "    <tr>\n",
              "      <th>2012-06-14</th>\n",
              "      <td>0</td>\n",
              "      <td>0</td>\n",
              "      <td>0</td>\n",
              "    </tr>\n",
              "    <tr>\n",
              "      <th>2012-06-15</th>\n",
              "      <td>0</td>\n",
              "      <td>0</td>\n",
              "      <td>0</td>\n",
              "    </tr>\n",
              "    <tr>\n",
              "      <th>2012-06-18</th>\n",
              "      <td>0</td>\n",
              "      <td>0</td>\n",
              "      <td>0</td>\n",
              "    </tr>\n",
              "    <tr>\n",
              "      <th>...</th>\n",
              "      <td>...</td>\n",
              "      <td>...</td>\n",
              "      <td>...</td>\n",
              "    </tr>\n",
              "    <tr>\n",
              "      <th>2022-06-02</th>\n",
              "      <td>0</td>\n",
              "      <td>0</td>\n",
              "      <td>0</td>\n",
              "    </tr>\n",
              "    <tr>\n",
              "      <th>2022-06-03</th>\n",
              "      <td>0</td>\n",
              "      <td>0</td>\n",
              "      <td>0</td>\n",
              "    </tr>\n",
              "    <tr>\n",
              "      <th>2022-06-06</th>\n",
              "      <td>0</td>\n",
              "      <td>0</td>\n",
              "      <td>0</td>\n",
              "    </tr>\n",
              "    <tr>\n",
              "      <th>2022-06-07</th>\n",
              "      <td>0</td>\n",
              "      <td>0</td>\n",
              "      <td>0</td>\n",
              "    </tr>\n",
              "    <tr>\n",
              "      <th>2022-06-08</th>\n",
              "      <td>0</td>\n",
              "      <td>0</td>\n",
              "      <td>0</td>\n",
              "    </tr>\n",
              "  </tbody>\n",
              "</table>\n",
              "<p>2515 rows × 3 columns</p>\n",
              "</div>\n",
              "      <button class=\"colab-df-convert\" onclick=\"convertToInteractive('df-78a481af-749a-406d-b3a9-b48546c8a6dd')\"\n",
              "              title=\"Convert this dataframe to an interactive table.\"\n",
              "              style=\"display:none;\">\n",
              "        \n",
              "  <svg xmlns=\"http://www.w3.org/2000/svg\" height=\"24px\"viewBox=\"0 0 24 24\"\n",
              "       width=\"24px\">\n",
              "    <path d=\"M0 0h24v24H0V0z\" fill=\"none\"/>\n",
              "    <path d=\"M18.56 5.44l.94 2.06.94-2.06 2.06-.94-2.06-.94-.94-2.06-.94 2.06-2.06.94zm-11 1L8.5 8.5l.94-2.06 2.06-.94-2.06-.94L8.5 2.5l-.94 2.06-2.06.94zm10 10l.94 2.06.94-2.06 2.06-.94-2.06-.94-.94-2.06-.94 2.06-2.06.94z\"/><path d=\"M17.41 7.96l-1.37-1.37c-.4-.4-.92-.59-1.43-.59-.52 0-1.04.2-1.43.59L10.3 9.45l-7.72 7.72c-.78.78-.78 2.05 0 2.83L4 21.41c.39.39.9.59 1.41.59.51 0 1.02-.2 1.41-.59l7.78-7.78 2.81-2.81c.8-.78.8-2.07 0-2.86zM5.41 20L4 18.59l7.72-7.72 1.47 1.35L5.41 20z\"/>\n",
              "  </svg>\n",
              "      </button>\n",
              "      \n",
              "  <style>\n",
              "    .colab-df-container {\n",
              "      display:flex;\n",
              "      flex-wrap:wrap;\n",
              "      gap: 12px;\n",
              "    }\n",
              "\n",
              "    .colab-df-convert {\n",
              "      background-color: #E8F0FE;\n",
              "      border: none;\n",
              "      border-radius: 50%;\n",
              "      cursor: pointer;\n",
              "      display: none;\n",
              "      fill: #1967D2;\n",
              "      height: 32px;\n",
              "      padding: 0 0 0 0;\n",
              "      width: 32px;\n",
              "    }\n",
              "\n",
              "    .colab-df-convert:hover {\n",
              "      background-color: #E2EBFA;\n",
              "      box-shadow: 0px 1px 2px rgba(60, 64, 67, 0.3), 0px 1px 3px 1px rgba(60, 64, 67, 0.15);\n",
              "      fill: #174EA6;\n",
              "    }\n",
              "\n",
              "    [theme=dark] .colab-df-convert {\n",
              "      background-color: #3B4455;\n",
              "      fill: #D2E3FC;\n",
              "    }\n",
              "\n",
              "    [theme=dark] .colab-df-convert:hover {\n",
              "      background-color: #434B5C;\n",
              "      box-shadow: 0px 1px 3px 1px rgba(0, 0, 0, 0.15);\n",
              "      filter: drop-shadow(0px 1px 2px rgba(0, 0, 0, 0.3));\n",
              "      fill: #FFFFFF;\n",
              "    }\n",
              "  </style>\n",
              "\n",
              "      <script>\n",
              "        const buttonEl =\n",
              "          document.querySelector('#df-78a481af-749a-406d-b3a9-b48546c8a6dd button.colab-df-convert');\n",
              "        buttonEl.style.display =\n",
              "          google.colab.kernel.accessAllowed ? 'block' : 'none';\n",
              "\n",
              "        async function convertToInteractive(key) {\n",
              "          const element = document.querySelector('#df-78a481af-749a-406d-b3a9-b48546c8a6dd');\n",
              "          const dataTable =\n",
              "            await google.colab.kernel.invokeFunction('convertToInteractive',\n",
              "                                                     [key], {});\n",
              "          if (!dataTable) return;\n",
              "\n",
              "          const docLinkHtml = 'Like what you see? Visit the ' +\n",
              "            '<a target=\"_blank\" href=https://colab.research.google.com/notebooks/data_table.ipynb>data table notebook</a>'\n",
              "            + ' to learn more about interactive tables.';\n",
              "          element.innerHTML = '';\n",
              "          dataTable['output_type'] = 'display_data';\n",
              "          await google.colab.output.renderOutput(dataTable, element);\n",
              "          const docLink = document.createElement('div');\n",
              "          docLink.innerHTML = docLinkHtml;\n",
              "          element.appendChild(docLink);\n",
              "        }\n",
              "      </script>\n",
              "    </div>\n",
              "  </div>\n",
              "  "
            ]
          },
          "metadata": {},
          "execution_count": 140
        }
      ]
    },
    {
      "cell_type": "markdown",
      "source": [
        "### 3"
      ],
      "metadata": {
        "id": "LmByYOrrE_dk"
      }
    },
    {
      "cell_type": "markdown",
      "source": [
        "#### (a)"
      ],
      "metadata": {
        "id": "S8glQsJbGxp3"
      }
    },
    {
      "cell_type": "code",
      "source": [
        "# 한 달 단위로 모멘텀 계산\n",
        "close"
      ],
      "metadata": {
        "id": "H7-eiFROG343",
        "colab": {
          "base_uri": "https://localhost:8080/",
          "height": 455
        },
        "outputId": "0f002784-2ec2-4a92-e5fa-627d0b067d56"
      },
      "execution_count": null,
      "outputs": [
        {
          "output_type": "execute_result",
          "data": {
            "text/plain": [
              "                  AAPL        GOOG        TSLA\n",
              "Date                                          \n",
              "2012-06-12   17.569418   14.074744    1.977333\n",
              "2012-06-13   17.447445   13.974869    1.984667\n",
              "2012-06-14   17.428232   13.924059    1.959333\n",
              "2012-06-15   17.507515   14.060049    1.994000\n",
              "2012-06-18   17.862776   14.217958    2.122667\n",
              "...                ...         ...         ...\n",
              "2022-06-02  151.000259  117.746002  258.333344\n",
              "2022-06-03  145.178345  114.564003  234.516663\n",
              "2022-06-06  145.937286  117.010498  238.279999\n",
              "2022-06-07  148.503723  117.229500  238.886673\n",
              "2022-06-08  147.754776  117.237999  241.866669\n",
              "\n",
              "[2515 rows x 3 columns]"
            ],
            "text/html": [
              "\n",
              "  <div id=\"df-dc6ad27e-c055-4aca-a113-8ac63b924664\">\n",
              "    <div class=\"colab-df-container\">\n",
              "      <div>\n",
              "<style scoped>\n",
              "    .dataframe tbody tr th:only-of-type {\n",
              "        vertical-align: middle;\n",
              "    }\n",
              "\n",
              "    .dataframe tbody tr th {\n",
              "        vertical-align: top;\n",
              "    }\n",
              "\n",
              "    .dataframe thead th {\n",
              "        text-align: right;\n",
              "    }\n",
              "</style>\n",
              "<table border=\"1\" class=\"dataframe\">\n",
              "  <thead>\n",
              "    <tr style=\"text-align: right;\">\n",
              "      <th></th>\n",
              "      <th>AAPL</th>\n",
              "      <th>GOOG</th>\n",
              "      <th>TSLA</th>\n",
              "    </tr>\n",
              "    <tr>\n",
              "      <th>Date</th>\n",
              "      <th></th>\n",
              "      <th></th>\n",
              "      <th></th>\n",
              "    </tr>\n",
              "  </thead>\n",
              "  <tbody>\n",
              "    <tr>\n",
              "      <th>2012-06-12</th>\n",
              "      <td>17.569418</td>\n",
              "      <td>14.074744</td>\n",
              "      <td>1.977333</td>\n",
              "    </tr>\n",
              "    <tr>\n",
              "      <th>2012-06-13</th>\n",
              "      <td>17.447445</td>\n",
              "      <td>13.974869</td>\n",
              "      <td>1.984667</td>\n",
              "    </tr>\n",
              "    <tr>\n",
              "      <th>2012-06-14</th>\n",
              "      <td>17.428232</td>\n",
              "      <td>13.924059</td>\n",
              "      <td>1.959333</td>\n",
              "    </tr>\n",
              "    <tr>\n",
              "      <th>2012-06-15</th>\n",
              "      <td>17.507515</td>\n",
              "      <td>14.060049</td>\n",
              "      <td>1.994000</td>\n",
              "    </tr>\n",
              "    <tr>\n",
              "      <th>2012-06-18</th>\n",
              "      <td>17.862776</td>\n",
              "      <td>14.217958</td>\n",
              "      <td>2.122667</td>\n",
              "    </tr>\n",
              "    <tr>\n",
              "      <th>...</th>\n",
              "      <td>...</td>\n",
              "      <td>...</td>\n",
              "      <td>...</td>\n",
              "    </tr>\n",
              "    <tr>\n",
              "      <th>2022-06-02</th>\n",
              "      <td>151.000259</td>\n",
              "      <td>117.746002</td>\n",
              "      <td>258.333344</td>\n",
              "    </tr>\n",
              "    <tr>\n",
              "      <th>2022-06-03</th>\n",
              "      <td>145.178345</td>\n",
              "      <td>114.564003</td>\n",
              "      <td>234.516663</td>\n",
              "    </tr>\n",
              "    <tr>\n",
              "      <th>2022-06-06</th>\n",
              "      <td>145.937286</td>\n",
              "      <td>117.010498</td>\n",
              "      <td>238.279999</td>\n",
              "    </tr>\n",
              "    <tr>\n",
              "      <th>2022-06-07</th>\n",
              "      <td>148.503723</td>\n",
              "      <td>117.229500</td>\n",
              "      <td>238.886673</td>\n",
              "    </tr>\n",
              "    <tr>\n",
              "      <th>2022-06-08</th>\n",
              "      <td>147.754776</td>\n",
              "      <td>117.237999</td>\n",
              "      <td>241.866669</td>\n",
              "    </tr>\n",
              "  </tbody>\n",
              "</table>\n",
              "<p>2515 rows × 3 columns</p>\n",
              "</div>\n",
              "      <button class=\"colab-df-convert\" onclick=\"convertToInteractive('df-dc6ad27e-c055-4aca-a113-8ac63b924664')\"\n",
              "              title=\"Convert this dataframe to an interactive table.\"\n",
              "              style=\"display:none;\">\n",
              "        \n",
              "  <svg xmlns=\"http://www.w3.org/2000/svg\" height=\"24px\"viewBox=\"0 0 24 24\"\n",
              "       width=\"24px\">\n",
              "    <path d=\"M0 0h24v24H0V0z\" fill=\"none\"/>\n",
              "    <path d=\"M18.56 5.44l.94 2.06.94-2.06 2.06-.94-2.06-.94-.94-2.06-.94 2.06-2.06.94zm-11 1L8.5 8.5l.94-2.06 2.06-.94-2.06-.94L8.5 2.5l-.94 2.06-2.06.94zm10 10l.94 2.06.94-2.06 2.06-.94-2.06-.94-.94-2.06-.94 2.06-2.06.94z\"/><path d=\"M17.41 7.96l-1.37-1.37c-.4-.4-.92-.59-1.43-.59-.52 0-1.04.2-1.43.59L10.3 9.45l-7.72 7.72c-.78.78-.78 2.05 0 2.83L4 21.41c.39.39.9.59 1.41.59.51 0 1.02-.2 1.41-.59l7.78-7.78 2.81-2.81c.8-.78.8-2.07 0-2.86zM5.41 20L4 18.59l7.72-7.72 1.47 1.35L5.41 20z\"/>\n",
              "  </svg>\n",
              "      </button>\n",
              "      \n",
              "  <style>\n",
              "    .colab-df-container {\n",
              "      display:flex;\n",
              "      flex-wrap:wrap;\n",
              "      gap: 12px;\n",
              "    }\n",
              "\n",
              "    .colab-df-convert {\n",
              "      background-color: #E8F0FE;\n",
              "      border: none;\n",
              "      border-radius: 50%;\n",
              "      cursor: pointer;\n",
              "      display: none;\n",
              "      fill: #1967D2;\n",
              "      height: 32px;\n",
              "      padding: 0 0 0 0;\n",
              "      width: 32px;\n",
              "    }\n",
              "\n",
              "    .colab-df-convert:hover {\n",
              "      background-color: #E2EBFA;\n",
              "      box-shadow: 0px 1px 2px rgba(60, 64, 67, 0.3), 0px 1px 3px 1px rgba(60, 64, 67, 0.15);\n",
              "      fill: #174EA6;\n",
              "    }\n",
              "\n",
              "    [theme=dark] .colab-df-convert {\n",
              "      background-color: #3B4455;\n",
              "      fill: #D2E3FC;\n",
              "    }\n",
              "\n",
              "    [theme=dark] .colab-df-convert:hover {\n",
              "      background-color: #434B5C;\n",
              "      box-shadow: 0px 1px 3px 1px rgba(0, 0, 0, 0.15);\n",
              "      filter: drop-shadow(0px 1px 2px rgba(0, 0, 0, 0.3));\n",
              "      fill: #FFFFFF;\n",
              "    }\n",
              "  </style>\n",
              "\n",
              "      <script>\n",
              "        const buttonEl =\n",
              "          document.querySelector('#df-dc6ad27e-c055-4aca-a113-8ac63b924664 button.colab-df-convert');\n",
              "        buttonEl.style.display =\n",
              "          google.colab.kernel.accessAllowed ? 'block' : 'none';\n",
              "\n",
              "        async function convertToInteractive(key) {\n",
              "          const element = document.querySelector('#df-dc6ad27e-c055-4aca-a113-8ac63b924664');\n",
              "          const dataTable =\n",
              "            await google.colab.kernel.invokeFunction('convertToInteractive',\n",
              "                                                     [key], {});\n",
              "          if (!dataTable) return;\n",
              "\n",
              "          const docLinkHtml = 'Like what you see? Visit the ' +\n",
              "            '<a target=\"_blank\" href=https://colab.research.google.com/notebooks/data_table.ipynb>data table notebook</a>'\n",
              "            + ' to learn more about interactive tables.';\n",
              "          element.innerHTML = '';\n",
              "          dataTable['output_type'] = 'display_data';\n",
              "          await google.colab.output.renderOutput(dataTable, element);\n",
              "          const docLink = document.createElement('div');\n",
              "          docLink.innerHTML = docLinkHtml;\n",
              "          element.appendChild(docLink);\n",
              "        }\n",
              "      </script>\n",
              "    </div>\n",
              "  </div>\n",
              "  "
            ]
          },
          "metadata": {},
          "execution_count": 161
        }
      ]
    },
    {
      "cell_type": "markdown",
      "source": [
        "#### (b)"
      ],
      "metadata": {
        "id": "4MURn4trGzN8"
      }
    },
    {
      "cell_type": "code",
      "source": [],
      "metadata": {
        "id": "xGewCiS-G4Pe"
      },
      "execution_count": null,
      "outputs": []
    },
    {
      "cell_type": "markdown",
      "source": [
        "#### (c)"
      ],
      "metadata": {
        "id": "qAKNKQvpG0se"
      }
    },
    {
      "cell_type": "code",
      "source": [],
      "metadata": {
        "id": "LuoNY3F-G4rj"
      },
      "execution_count": null,
      "outputs": []
    },
    {
      "cell_type": "markdown",
      "source": [
        "### 4"
      ],
      "metadata": {
        "id": "W-ig2BiqDcfx"
      }
    },
    {
      "cell_type": "markdown",
      "source": [
        "(a)"
      ],
      "metadata": {
        "id": "nw5Hhur9Deqy"
      }
    },
    {
      "cell_type": "code",
      "execution_count": null,
      "metadata": {
        "id": "sv3YPU1uDYUt"
      },
      "outputs": [],
      "source": [
        "# Definition for singly-linked list.\n",
        "# class ListNode:\n",
        "#     def __init__(self, val=0, next=None):\n",
        "#         self.val = val\n",
        "#         self.next = next\n",
        "class Solution:\n",
        "    def reverseList(self, head: ListNode) -> ListNode:\n",
        "        prev, node = None, head\n",
        "        while node:\n",
        "            nxt = node.next\n",
        "            node.next = prev\n",
        "            prev = node\n",
        "            node = nxt\n",
        "        return prev"
      ]
    },
    {
      "cell_type": "markdown",
      "source": [
        "(b)"
      ],
      "metadata": {
        "id": "hQexNl9zDfby"
      }
    },
    {
      "cell_type": "code",
      "source": [
        "class Solution:\n",
        "    def generate(self, numRows: int) -> List[List[int]]:\n",
        "        A = [[1]]\n",
        "        for idx in range(numRows-1):\n",
        "            length = idx + 2\n",
        "            new_list = []\n",
        "            new_list.append(1)\n",
        "            for i in range(1,length-1):\n",
        "                value = A[idx][i-1] + A[idx][i]\n",
        "                new_list.append(value)\n",
        "            new_list.append(1)\n",
        "            A.append(new_list)\n",
        "        return A"
      ],
      "metadata": {
        "id": "ya8qO6jcERvM"
      },
      "execution_count": null,
      "outputs": []
    },
    {
      "cell_type": "markdown",
      "source": [
        "(c)"
      ],
      "metadata": {
        "id": "Q5-xxiDXDppO"
      }
    },
    {
      "cell_type": "code",
      "source": [
        "class Solution:\n",
        "    def oddEvenList(self, head: ListNode) -> ListNode:\n",
        "        if not head: \n",
        "            return head\n",
        "        odd = head\n",
        "        even = head.next\n",
        "        evenHead = even\n",
        "        while(even and odd and even.next and odd.next):\n",
        "            odd.next = even.next\n",
        "            odd = odd.next\n",
        "            even.next = odd.next\n",
        "            even = even.next\n",
        "        odd.next = evenHead\n",
        "        return head"
      ],
      "metadata": {
        "id": "CuTwFB_wDo5k"
      },
      "execution_count": null,
      "outputs": []
    }
  ]
}